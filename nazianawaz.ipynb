{
 "cells": [
  {
   "cell_type": "code",
   "execution_count": 133,
   "id": "48684823",
   "metadata": {},
   "outputs": [],
   "source": [
    "import numpy as np\n",
    "import pandas as pd\n",
    "import seaborn as sns\n",
    "import matplotlib.pyplot as plt"
   ]
  },
  {
   "cell_type": "code",
   "execution_count": 134,
   "id": "e563c40b",
   "metadata": {},
   "outputs": [],
   "source": [
    "df = pd.read_csv(\"heart failure.csv\")"
   ]
  },
  {
   "cell_type": "code",
   "execution_count": 135,
   "id": "290b46bc",
   "metadata": {},
   "outputs": [
    {
     "data": {
      "text/html": [
       "<div>\n",
       "<style scoped>\n",
       "    .dataframe tbody tr th:only-of-type {\n",
       "        vertical-align: middle;\n",
       "    }\n",
       "\n",
       "    .dataframe tbody tr th {\n",
       "        vertical-align: top;\n",
       "    }\n",
       "\n",
       "    .dataframe thead th {\n",
       "        text-align: right;\n",
       "    }\n",
       "</style>\n",
       "<table border=\"1\" class=\"dataframe\">\n",
       "  <thead>\n",
       "    <tr style=\"text-align: right;\">\n",
       "      <th></th>\n",
       "      <th>Age</th>\n",
       "      <th>Age.Group</th>\n",
       "      <th>Gender</th>\n",
       "      <th>Locality</th>\n",
       "      <th>Marital status</th>\n",
       "      <th>Life.Style</th>\n",
       "      <th>Sleep</th>\n",
       "      <th>Category</th>\n",
       "      <th>Depression</th>\n",
       "      <th>Hyperlipi</th>\n",
       "      <th>...</th>\n",
       "      <th>oldpeak</th>\n",
       "      <th>slope</th>\n",
       "      <th>ca</th>\n",
       "      <th>thal</th>\n",
       "      <th>num</th>\n",
       "      <th>SK</th>\n",
       "      <th>SK.React</th>\n",
       "      <th>Reaction</th>\n",
       "      <th>Mortality</th>\n",
       "      <th>Follow.Up</th>\n",
       "    </tr>\n",
       "  </thead>\n",
       "  <tbody>\n",
       "    <tr>\n",
       "      <th>0</th>\n",
       "      <td>45</td>\n",
       "      <td>41-50</td>\n",
       "      <td>Female</td>\n",
       "      <td>RURAL</td>\n",
       "      <td>MARRIED</td>\n",
       "      <td>NO</td>\n",
       "      <td>NO</td>\n",
       "      <td>FREE</td>\n",
       "      <td>YES</td>\n",
       "      <td>YES</td>\n",
       "      <td>...</td>\n",
       "      <td>3.0</td>\n",
       "      <td>2</td>\n",
       "      <td>0</td>\n",
       "      <td>7</td>\n",
       "      <td>2</td>\n",
       "      <td>1</td>\n",
       "      <td>NO</td>\n",
       "      <td>0</td>\n",
       "      <td>0</td>\n",
       "      <td>60</td>\n",
       "    </tr>\n",
       "    <tr>\n",
       "      <th>1</th>\n",
       "      <td>51</td>\n",
       "      <td>51-60</td>\n",
       "      <td>Female</td>\n",
       "      <td>URBAN</td>\n",
       "      <td>MARRIED</td>\n",
       "      <td>NO</td>\n",
       "      <td>NO</td>\n",
       "      <td>FREE</td>\n",
       "      <td>YES</td>\n",
       "      <td>YES</td>\n",
       "      <td>...</td>\n",
       "      <td>1.2</td>\n",
       "      <td>2</td>\n",
       "      <td>0</td>\n",
       "      <td>7</td>\n",
       "      <td>2</td>\n",
       "      <td>1</td>\n",
       "      <td>NO</td>\n",
       "      <td>0</td>\n",
       "      <td>0</td>\n",
       "      <td>15</td>\n",
       "    </tr>\n",
       "    <tr>\n",
       "      <th>2</th>\n",
       "      <td>55</td>\n",
       "      <td>51-60</td>\n",
       "      <td>Female</td>\n",
       "      <td>RURAL</td>\n",
       "      <td>MARRIED</td>\n",
       "      <td>YES</td>\n",
       "      <td>YES</td>\n",
       "      <td>FREE</td>\n",
       "      <td>YES</td>\n",
       "      <td>YES</td>\n",
       "      <td>...</td>\n",
       "      <td>3.4</td>\n",
       "      <td>2</td>\n",
       "      <td>0</td>\n",
       "      <td>3</td>\n",
       "      <td>2</td>\n",
       "      <td>1</td>\n",
       "      <td>NO</td>\n",
       "      <td>0</td>\n",
       "      <td>0</td>\n",
       "      <td>6</td>\n",
       "    </tr>\n",
       "    <tr>\n",
       "      <th>3</th>\n",
       "      <td>55</td>\n",
       "      <td>51-60</td>\n",
       "      <td>Female</td>\n",
       "      <td>RURAL</td>\n",
       "      <td>MARRIED</td>\n",
       "      <td>YES</td>\n",
       "      <td>YES</td>\n",
       "      <td>FREE</td>\n",
       "      <td>YES</td>\n",
       "      <td>YES</td>\n",
       "      <td>...</td>\n",
       "      <td>2.0</td>\n",
       "      <td>2</td>\n",
       "      <td>1</td>\n",
       "      <td>7</td>\n",
       "      <td>3</td>\n",
       "      <td>1</td>\n",
       "      <td>NO</td>\n",
       "      <td>0</td>\n",
       "      <td>0</td>\n",
       "      <td>52</td>\n",
       "    </tr>\n",
       "    <tr>\n",
       "      <th>4</th>\n",
       "      <td>56</td>\n",
       "      <td>51-60</td>\n",
       "      <td>Female</td>\n",
       "      <td>RURAL</td>\n",
       "      <td>MARRIED</td>\n",
       "      <td>YES</td>\n",
       "      <td>NO</td>\n",
       "      <td>FREE</td>\n",
       "      <td>YES</td>\n",
       "      <td>YES</td>\n",
       "      <td>...</td>\n",
       "      <td>4.0</td>\n",
       "      <td>3</td>\n",
       "      <td>2</td>\n",
       "      <td>7</td>\n",
       "      <td>3</td>\n",
       "      <td>1</td>\n",
       "      <td>NO</td>\n",
       "      <td>0</td>\n",
       "      <td>0</td>\n",
       "      <td>34</td>\n",
       "    </tr>\n",
       "    <tr>\n",
       "      <th>5</th>\n",
       "      <td>56</td>\n",
       "      <td>51-60</td>\n",
       "      <td>Female</td>\n",
       "      <td>URBAN</td>\n",
       "      <td>MARRIED</td>\n",
       "      <td>NO</td>\n",
       "      <td>NO</td>\n",
       "      <td>FREE</td>\n",
       "      <td>YES</td>\n",
       "      <td>YES</td>\n",
       "      <td>...</td>\n",
       "      <td>1.9</td>\n",
       "      <td>2</td>\n",
       "      <td>2</td>\n",
       "      <td>7</td>\n",
       "      <td>2</td>\n",
       "      <td>1</td>\n",
       "      <td>NO</td>\n",
       "      <td>0</td>\n",
       "      <td>1</td>\n",
       "      <td>32</td>\n",
       "    </tr>\n",
       "    <tr>\n",
       "      <th>6</th>\n",
       "      <td>57</td>\n",
       "      <td>51-60</td>\n",
       "      <td>Female</td>\n",
       "      <td>RURAL</td>\n",
       "      <td>MARRIED</td>\n",
       "      <td>YES</td>\n",
       "      <td>YES</td>\n",
       "      <td>PAID</td>\n",
       "      <td>YES</td>\n",
       "      <td>YES</td>\n",
       "      <td>...</td>\n",
       "      <td>0.2</td>\n",
       "      <td>2</td>\n",
       "      <td>0</td>\n",
       "      <td>7</td>\n",
       "      <td>1</td>\n",
       "      <td>1</td>\n",
       "      <td>NO</td>\n",
       "      <td>0</td>\n",
       "      <td>0</td>\n",
       "      <td>60</td>\n",
       "    </tr>\n",
       "    <tr>\n",
       "      <th>7</th>\n",
       "      <td>57</td>\n",
       "      <td>51-60</td>\n",
       "      <td>Female</td>\n",
       "      <td>RURAL</td>\n",
       "      <td>MARRIED</td>\n",
       "      <td>NO</td>\n",
       "      <td>NO</td>\n",
       "      <td>FREE</td>\n",
       "      <td>YES</td>\n",
       "      <td>YES</td>\n",
       "      <td>...</td>\n",
       "      <td>0.0</td>\n",
       "      <td>2</td>\n",
       "      <td>1</td>\n",
       "      <td>3</td>\n",
       "      <td>1</td>\n",
       "      <td>1</td>\n",
       "      <td>NO</td>\n",
       "      <td>0</td>\n",
       "      <td>1</td>\n",
       "      <td>3</td>\n",
       "    </tr>\n",
       "    <tr>\n",
       "      <th>8</th>\n",
       "      <td>58</td>\n",
       "      <td>51-60</td>\n",
       "      <td>Female</td>\n",
       "      <td>URBAN</td>\n",
       "      <td>MARRIED</td>\n",
       "      <td>NO</td>\n",
       "      <td>NO</td>\n",
       "      <td>FREE</td>\n",
       "      <td>YES</td>\n",
       "      <td>YES</td>\n",
       "      <td>...</td>\n",
       "      <td>0.0</td>\n",
       "      <td>1</td>\n",
       "      <td>2</td>\n",
       "      <td>3</td>\n",
       "      <td>3</td>\n",
       "      <td>1</td>\n",
       "      <td>NO</td>\n",
       "      <td>0</td>\n",
       "      <td>0</td>\n",
       "      <td>15</td>\n",
       "    </tr>\n",
       "    <tr>\n",
       "      <th>9</th>\n",
       "      <td>58</td>\n",
       "      <td>51-60</td>\n",
       "      <td>Female</td>\n",
       "      <td>RURAL</td>\n",
       "      <td>MARRIED</td>\n",
       "      <td>YES</td>\n",
       "      <td>YES</td>\n",
       "      <td>FREE</td>\n",
       "      <td>YES</td>\n",
       "      <td>YES</td>\n",
       "      <td>...</td>\n",
       "      <td>2.8</td>\n",
       "      <td>2</td>\n",
       "      <td>2</td>\n",
       "      <td>6</td>\n",
       "      <td>2</td>\n",
       "      <td>1</td>\n",
       "      <td>NO</td>\n",
       "      <td>0</td>\n",
       "      <td>0</td>\n",
       "      <td>6</td>\n",
       "    </tr>\n",
       "    <tr>\n",
       "      <th>10</th>\n",
       "      <td>59</td>\n",
       "      <td>51-60</td>\n",
       "      <td>Female</td>\n",
       "      <td>RURAL</td>\n",
       "      <td>MARRIED</td>\n",
       "      <td>YES</td>\n",
       "      <td>YES</td>\n",
       "      <td>FREE</td>\n",
       "      <td>YES</td>\n",
       "      <td>YES</td>\n",
       "      <td>...</td>\n",
       "      <td>0.0</td>\n",
       "      <td>2</td>\n",
       "      <td>0</td>\n",
       "      <td>3</td>\n",
       "      <td>1</td>\n",
       "      <td>1</td>\n",
       "      <td>NO</td>\n",
       "      <td>0</td>\n",
       "      <td>1</td>\n",
       "      <td>52</td>\n",
       "    </tr>\n",
       "    <tr>\n",
       "      <th>11</th>\n",
       "      <td>60</td>\n",
       "      <td>51-60</td>\n",
       "      <td>Female</td>\n",
       "      <td>RURAL</td>\n",
       "      <td>MARRIED</td>\n",
       "      <td>YES</td>\n",
       "      <td>NO</td>\n",
       "      <td>FREE</td>\n",
       "      <td>YES</td>\n",
       "      <td>YES</td>\n",
       "      <td>...</td>\n",
       "      <td>2.6</td>\n",
       "      <td>2</td>\n",
       "      <td>2</td>\n",
       "      <td>7</td>\n",
       "      <td>3</td>\n",
       "      <td>1</td>\n",
       "      <td>NO</td>\n",
       "      <td>0</td>\n",
       "      <td>0</td>\n",
       "      <td>34</td>\n",
       "    </tr>\n",
       "    <tr>\n",
       "      <th>12</th>\n",
       "      <td>60</td>\n",
       "      <td>51-60</td>\n",
       "      <td>Female</td>\n",
       "      <td>URBAN</td>\n",
       "      <td>MARRIED</td>\n",
       "      <td>NO</td>\n",
       "      <td>NO</td>\n",
       "      <td>FREE</td>\n",
       "      <td>YES</td>\n",
       "      <td>YES</td>\n",
       "      <td>...</td>\n",
       "      <td>0.0</td>\n",
       "      <td>1</td>\n",
       "      <td>0</td>\n",
       "      <td>3</td>\n",
       "      <td>1</td>\n",
       "      <td>1</td>\n",
       "      <td>NO</td>\n",
       "      <td>0</td>\n",
       "      <td>0</td>\n",
       "      <td>32</td>\n",
       "    </tr>\n",
       "    <tr>\n",
       "      <th>13</th>\n",
       "      <td>61</td>\n",
       "      <td>61-70</td>\n",
       "      <td>Female</td>\n",
       "      <td>RURAL</td>\n",
       "      <td>MARRIED</td>\n",
       "      <td>YES</td>\n",
       "      <td>YES</td>\n",
       "      <td>PAID</td>\n",
       "      <td>YES</td>\n",
       "      <td>YES</td>\n",
       "      <td>...</td>\n",
       "      <td>0.0</td>\n",
       "      <td>1</td>\n",
       "      <td>0</td>\n",
       "      <td>3</td>\n",
       "      <td>1</td>\n",
       "      <td>1</td>\n",
       "      <td>NO</td>\n",
       "      <td>0</td>\n",
       "      <td>1</td>\n",
       "      <td>12</td>\n",
       "    </tr>\n",
       "    <tr>\n",
       "      <th>14</th>\n",
       "      <td>61</td>\n",
       "      <td>61-70</td>\n",
       "      <td>Female</td>\n",
       "      <td>RURAL</td>\n",
       "      <td>MARRIED</td>\n",
       "      <td>NO</td>\n",
       "      <td>NO</td>\n",
       "      <td>FREE</td>\n",
       "      <td>YES</td>\n",
       "      <td>YES</td>\n",
       "      <td>...</td>\n",
       "      <td>1.0</td>\n",
       "      <td>2</td>\n",
       "      <td>0</td>\n",
       "      <td>7</td>\n",
       "      <td>1</td>\n",
       "      <td>1</td>\n",
       "      <td>NO</td>\n",
       "      <td>0</td>\n",
       "      <td>1</td>\n",
       "      <td>15</td>\n",
       "    </tr>\n",
       "    <tr>\n",
       "      <th>15</th>\n",
       "      <td>62</td>\n",
       "      <td>61-70</td>\n",
       "      <td>Female</td>\n",
       "      <td>URBAN</td>\n",
       "      <td>MARRIED</td>\n",
       "      <td>NO</td>\n",
       "      <td>NO</td>\n",
       "      <td>FREE</td>\n",
       "      <td>YES</td>\n",
       "      <td>YES</td>\n",
       "      <td>...</td>\n",
       "      <td>3.6</td>\n",
       "      <td>3</td>\n",
       "      <td>2</td>\n",
       "      <td>3</td>\n",
       "      <td>3</td>\n",
       "      <td>1</td>\n",
       "      <td>NO</td>\n",
       "      <td>0</td>\n",
       "      <td>0</td>\n",
       "      <td>15</td>\n",
       "    </tr>\n",
       "    <tr>\n",
       "      <th>16</th>\n",
       "      <td>62</td>\n",
       "      <td>61-70</td>\n",
       "      <td>Female</td>\n",
       "      <td>RURAL</td>\n",
       "      <td>MARRIED</td>\n",
       "      <td>YES</td>\n",
       "      <td>YES</td>\n",
       "      <td>FREE</td>\n",
       "      <td>YES</td>\n",
       "      <td>YES</td>\n",
       "      <td>...</td>\n",
       "      <td>6.2</td>\n",
       "      <td>3</td>\n",
       "      <td>3</td>\n",
       "      <td>7</td>\n",
       "      <td>3</td>\n",
       "      <td>1</td>\n",
       "      <td>NO</td>\n",
       "      <td>0</td>\n",
       "      <td>0</td>\n",
       "      <td>6</td>\n",
       "    </tr>\n",
       "    <tr>\n",
       "      <th>17</th>\n",
       "      <td>62</td>\n",
       "      <td>61-70</td>\n",
       "      <td>Female</td>\n",
       "      <td>RURAL</td>\n",
       "      <td>MARRIED</td>\n",
       "      <td>YES</td>\n",
       "      <td>YES</td>\n",
       "      <td>FREE</td>\n",
       "      <td>YES</td>\n",
       "      <td>YES</td>\n",
       "      <td>...</td>\n",
       "      <td>1.2</td>\n",
       "      <td>2</td>\n",
       "      <td>1</td>\n",
       "      <td>7</td>\n",
       "      <td>2</td>\n",
       "      <td>1</td>\n",
       "      <td>NO</td>\n",
       "      <td>0</td>\n",
       "      <td>1</td>\n",
       "      <td>52</td>\n",
       "    </tr>\n",
       "    <tr>\n",
       "      <th>18</th>\n",
       "      <td>62</td>\n",
       "      <td>61-70</td>\n",
       "      <td>Female</td>\n",
       "      <td>RURAL</td>\n",
       "      <td>MARRIED</td>\n",
       "      <td>YES</td>\n",
       "      <td>NO</td>\n",
       "      <td>FREE</td>\n",
       "      <td>YES</td>\n",
       "      <td>YES</td>\n",
       "      <td>...</td>\n",
       "      <td>1.9</td>\n",
       "      <td>2</td>\n",
       "      <td>3</td>\n",
       "      <td>3</td>\n",
       "      <td>2</td>\n",
       "      <td>1</td>\n",
       "      <td>NO</td>\n",
       "      <td>0</td>\n",
       "      <td>1</td>\n",
       "      <td>34</td>\n",
       "    </tr>\n",
       "    <tr>\n",
       "      <th>19</th>\n",
       "      <td>62</td>\n",
       "      <td>61-70</td>\n",
       "      <td>Female</td>\n",
       "      <td>URBAN</td>\n",
       "      <td>MARRIED</td>\n",
       "      <td>NO</td>\n",
       "      <td>NO</td>\n",
       "      <td>FREE</td>\n",
       "      <td>YES</td>\n",
       "      <td>YES</td>\n",
       "      <td>...</td>\n",
       "      <td>1.4</td>\n",
       "      <td>2</td>\n",
       "      <td>0</td>\n",
       "      <td>3</td>\n",
       "      <td>1</td>\n",
       "      <td>1</td>\n",
       "      <td>NO</td>\n",
       "      <td>0</td>\n",
       "      <td>1</td>\n",
       "      <td>32</td>\n",
       "    </tr>\n",
       "  </tbody>\n",
       "</table>\n",
       "<p>20 rows × 60 columns</p>\n",
       "</div>"
      ],
      "text/plain": [
       "    Age Age.Group  Gender Locality   Marital status                         \\\n",
       "0    45     41-50  Female      RURAL                               MARRIED   \n",
       "1    51     51-60  Female      URBAN                               MARRIED   \n",
       "2    55     51-60  Female      RURAL                               MARRIED   \n",
       "3    55     51-60  Female      RURAL                               MARRIED   \n",
       "4    56     51-60  Female      RURAL                               MARRIED   \n",
       "5    56     51-60  Female      URBAN                               MARRIED   \n",
       "6    57     51-60  Female      RURAL                               MARRIED   \n",
       "7    57     51-60  Female      RURAL                               MARRIED   \n",
       "8    58     51-60  Female      URBAN                               MARRIED   \n",
       "9    58     51-60  Female      RURAL                               MARRIED   \n",
       "10   59     51-60  Female      RURAL                               MARRIED   \n",
       "11   60     51-60  Female      RURAL                               MARRIED   \n",
       "12   60     51-60  Female      URBAN                               MARRIED   \n",
       "13   61     61-70  Female      RURAL                               MARRIED   \n",
       "14   61     61-70  Female      RURAL                               MARRIED   \n",
       "15   62     61-70  Female      URBAN                               MARRIED   \n",
       "16   62     61-70  Female      RURAL                               MARRIED   \n",
       "17   62     61-70  Female      RURAL                               MARRIED   \n",
       "18   62     61-70  Female      RURAL                               MARRIED   \n",
       "19   62     61-70  Female      URBAN                               MARRIED   \n",
       "\n",
       "   Life.Style                                                                                \\\n",
       "0                                                  NO                                         \n",
       "1                                                  NO                                         \n",
       "2                                                 YES                                         \n",
       "3                                                 YES                                         \n",
       "4                                                 YES                                         \n",
       "5                                                  NO                                         \n",
       "6                                                 YES                                         \n",
       "7                                                  NO                                         \n",
       "8                                                  NO                                         \n",
       "9                                                 YES                                         \n",
       "10                                                YES                                         \n",
       "11                                                YES                                         \n",
       "12                                                 NO                                         \n",
       "13                                                YES                                         \n",
       "14                                                 NO                                         \n",
       "15                                                 NO                                         \n",
       "16                                                YES                                         \n",
       "17                                                YES                                         \n",
       "18                                                YES                                         \n",
       "19                                                 NO                                         \n",
       "\n",
       "   Sleep Category Depression Hyperlipi  ... oldpeak slope  ca  thal num SK  \\\n",
       "0     NO     FREE        YES       YES  ...     3.0     2   0     7   2  1   \n",
       "1     NO     FREE        YES       YES  ...     1.2     2   0     7   2  1   \n",
       "2    YES     FREE        YES       YES  ...     3.4     2   0     3   2  1   \n",
       "3    YES     FREE        YES       YES  ...     2.0     2   1     7   3  1   \n",
       "4     NO     FREE        YES       YES  ...     4.0     3   2     7   3  1   \n",
       "5     NO     FREE        YES       YES  ...     1.9     2   2     7   2  1   \n",
       "6    YES     PAID        YES       YES  ...     0.2     2   0     7   1  1   \n",
       "7     NO     FREE        YES       YES  ...     0.0     2   1     3   1  1   \n",
       "8     NO     FREE        YES       YES  ...     0.0     1   2     3   3  1   \n",
       "9    YES     FREE        YES       YES  ...     2.8     2   2     6   2  1   \n",
       "10   YES     FREE        YES       YES  ...     0.0     2   0     3   1  1   \n",
       "11    NO     FREE        YES       YES  ...     2.6     2   2     7   3  1   \n",
       "12    NO     FREE        YES       YES  ...     0.0     1   0     3   1  1   \n",
       "13   YES     PAID        YES       YES  ...     0.0     1   0     3   1  1   \n",
       "14    NO     FREE        YES       YES  ...     1.0     2   0     7   1  1   \n",
       "15    NO     FREE        YES       YES  ...     3.6     3   2     3   3  1   \n",
       "16   YES     FREE        YES       YES  ...     6.2     3   3     7   3  1   \n",
       "17   YES     FREE        YES       YES  ...     1.2     2   1     7   2  1   \n",
       "18    NO     FREE        YES       YES  ...     1.9     2   3     3   2  1   \n",
       "19    NO     FREE        YES       YES  ...     1.4     2   0     3   1  1   \n",
       "\n",
       "    SK.React  Reaction  Mortality  Follow.Up  \n",
       "0         NO         0          0         60  \n",
       "1         NO         0          0         15  \n",
       "2         NO         0          0          6  \n",
       "3         NO         0          0         52  \n",
       "4         NO         0          0         34  \n",
       "5         NO         0          1         32  \n",
       "6         NO         0          0         60  \n",
       "7         NO         0          1          3  \n",
       "8         NO         0          0         15  \n",
       "9         NO         0          0          6  \n",
       "10        NO         0          1         52  \n",
       "11        NO         0          0         34  \n",
       "12        NO         0          0         32  \n",
       "13        NO         0          1         12  \n",
       "14        NO         0          1         15  \n",
       "15        NO         0          0         15  \n",
       "16        NO         0          0          6  \n",
       "17        NO         0          1         52  \n",
       "18        NO         0          1         34  \n",
       "19        NO         0          1         32  \n",
       "\n",
       "[20 rows x 60 columns]"
      ]
     },
     "execution_count": 135,
     "metadata": {},
     "output_type": "execute_result"
    }
   ],
   "source": [
    "df.head(20)"
   ]
  },
  {
   "cell_type": "code",
   "execution_count": 136,
   "id": "896610f5",
   "metadata": {},
   "outputs": [
    {
     "data": {
      "text/plain": [
       "(368, 60)"
      ]
     },
     "execution_count": 136,
     "metadata": {},
     "output_type": "execute_result"
    }
   ],
   "source": [
    "df.shape"
   ]
  },
  {
   "cell_type": "code",
   "execution_count": 137,
   "id": "1bde8f79",
   "metadata": {},
   "outputs": [
    {
     "name": "stdout",
     "output_type": "stream",
     "text": [
      "<class 'pandas.core.frame.DataFrame'>\n",
      "RangeIndex: 368 entries, 0 to 367\n",
      "Data columns (total 60 columns):\n",
      " #   Column                                                                                    Non-Null Count  Dtype  \n",
      "---  ------                                                                                    --------------  -----  \n",
      " 0   Age                                                                                       368 non-null    int64  \n",
      " 1   Age.Group                                                                                 368 non-null    object \n",
      " 2   Gender                                                                                    368 non-null    object \n",
      " 3   Locality                                                                                  368 non-null    object \n",
      " 4   Marital status                                                                            368 non-null    object \n",
      " 5   Life.Style                                                                                368 non-null    object \n",
      " 6   Sleep                                                                                     368 non-null    object \n",
      " 7   Category                                                                                  368 non-null    object \n",
      " 8   Depression                                                                                368 non-null    object \n",
      " 9   Hyperlipi                                                                                 368 non-null    object \n",
      " 10  Smoking                                                                                   368 non-null    object \n",
      " 11  Family.History                                                                            368 non-null    object \n",
      " 12  F.History                                                                                 368 non-null    int64  \n",
      " 13  Diabetes                                                                                  368 non-null    int64  \n",
      " 14  HTN                                                                                       368 non-null    object \n",
      " 15  Allergies                                                                                 368 non-null    object \n",
      " 16  BP                                                                                        368 non-null    float64\n",
      " 17  Thrombolysis                                                                              368 non-null    int64  \n",
      " 18  BGR                                                                                       368 non-null    int64  \n",
      " 19  B.Urea                                                                                    368 non-null    float64\n",
      " 20  S.Cr                                                                                      368 non-null    float64\n",
      " 21  S.Sodium                                                                                  368 non-null    int64  \n",
      " 22  S.Potassium                                                                               368 non-null    float64\n",
      " 23  S.Chloride                                                                                368 non-null    int64  \n",
      " 24  C.P.K                                                                                     368 non-null    int64  \n",
      " 25  CK.MB                                                                                     368 non-null    int64  \n",
      " 26  ESR                                                                                       368 non-null    int64  \n",
      " 27  WBC                                                                                       368 non-null    int64  \n",
      " 28  RBC                                                                                       368 non-null    float64\n",
      " 29  Hemoglobin                                                                                368 non-null    float64\n",
      " 30  P.C.V                                                                                     368 non-null    float64\n",
      " 31  M.C.V                                                                                     368 non-null    float64\n",
      " 32  M.C.H                                                                                     368 non-null    float64\n",
      " 33  M.C.H.C                                                                                   368 non-null    float64\n",
      " 34  PLATELET_COUNT                                                                            368 non-null    int64  \n",
      " 35  NEUTROPHIL                                                                                368 non-null    float64\n",
      " 36  LYMPHO                                                                                    368 non-null    float64\n",
      " 37  MONOCYTE                                                                                  368 non-null    float64\n",
      " 38  EOSINO                                                                                    368 non-null    int64  \n",
      " 39  Others                                                                                    368 non-null    object \n",
      " 40  CO                                                                                        368 non-null    object \n",
      " 41  Diagnosis                                                                                 368 non-null    object \n",
      " 42  Hypersensitivity                                                                          368 non-null    object \n",
      " 43  cp                                                                                        368 non-null    int64  \n",
      " 44  trestbps                                                                                  368 non-null    int64  \n",
      " 45  chol                                                                                      368 non-null    int64  \n",
      " 46  fbs                                                                                       368 non-null    int64  \n",
      " 47  restecg                                                                                   368 non-null    int64  \n",
      " 48  thalach                                                                                   368 non-null    int64  \n",
      " 49  exang                                                                                     368 non-null    int64  \n",
      " 50  oldpeak                                                                                   368 non-null    float64\n",
      " 51  slope                                                                                     368 non-null    int64  \n",
      " 52  ca                                                                                        368 non-null    int64  \n",
      " 53  thal                                                                                      368 non-null    int64  \n",
      " 54  num                                                                                       368 non-null    int64  \n",
      " 55  SK                                                                                        368 non-null    int64  \n",
      " 56  SK.React                                                                                  368 non-null    object \n",
      " 57  Reaction                                                                                  368 non-null    int64  \n",
      " 58  Mortality                                                                                 368 non-null    int64  \n",
      " 59  Follow.Up                                                                                 368 non-null    int64  \n",
      "dtypes: float64(14), int64(28), object(18)\n",
      "memory usage: 172.6+ KB\n"
     ]
    }
   ],
   "source": [
    "df.info()"
   ]
  },
  {
   "cell_type": "code",
   "execution_count": 138,
   "id": "f1c1666f",
   "metadata": {},
   "outputs": [
    {
     "data": {
      "text/plain": [
       "Index(['Age', 'Age.Group', 'Gender', 'Locality  ',\n",
       "       'Marital status                       ',\n",
       "       'Life.Style                                                                              ',\n",
       "       'Sleep', 'Category', 'Depression', 'Hyperlipi', 'Smoking',\n",
       "       'Family.History', 'F.History', 'Diabetes', 'HTN', 'Allergies', 'BP',\n",
       "       'Thrombolysis', 'BGR', 'B.Urea', 'S.Cr', 'S.Sodium', 'S.Potassium',\n",
       "       'S.Chloride', 'C.P.K', 'CK.MB', 'ESR', 'WBC', 'RBC', 'Hemoglobin',\n",
       "       'P.C.V', 'M.C.V', 'M.C.H', 'M.C.H.C', 'PLATELET_COUNT', 'NEUTROPHIL',\n",
       "       'LYMPHO', 'MONOCYTE', 'EOSINO', 'Others ', 'CO', 'Diagnosis',\n",
       "       'Hypersensitivity', 'cp', 'trestbps', 'chol', 'fbs', 'restecg',\n",
       "       'thalach', 'exang', 'oldpeak', 'slope', 'ca', 'thal', 'num', 'SK',\n",
       "       'SK.React', 'Reaction', 'Mortality', 'Follow.Up'],\n",
       "      dtype='object')"
      ]
     },
     "execution_count": 138,
     "metadata": {},
     "output_type": "execute_result"
    }
   ],
   "source": [
    "df.columns"
   ]
  },
  {
   "cell_type": "code",
   "execution_count": 139,
   "id": "40c12203",
   "metadata": {},
   "outputs": [
    {
     "data": {
      "text/html": [
       "<div>\n",
       "<style scoped>\n",
       "    .dataframe tbody tr th:only-of-type {\n",
       "        vertical-align: middle;\n",
       "    }\n",
       "\n",
       "    .dataframe tbody tr th {\n",
       "        vertical-align: top;\n",
       "    }\n",
       "\n",
       "    .dataframe thead th {\n",
       "        text-align: right;\n",
       "    }\n",
       "</style>\n",
       "<table border=\"1\" class=\"dataframe\">\n",
       "  <thead>\n",
       "    <tr style=\"text-align: right;\">\n",
       "      <th></th>\n",
       "      <th>Age</th>\n",
       "      <th>F.History</th>\n",
       "      <th>Diabetes</th>\n",
       "      <th>BP</th>\n",
       "      <th>Thrombolysis</th>\n",
       "      <th>BGR</th>\n",
       "      <th>B.Urea</th>\n",
       "      <th>S.Cr</th>\n",
       "      <th>S.Sodium</th>\n",
       "      <th>S.Potassium</th>\n",
       "      <th>...</th>\n",
       "      <th>exang</th>\n",
       "      <th>oldpeak</th>\n",
       "      <th>slope</th>\n",
       "      <th>ca</th>\n",
       "      <th>thal</th>\n",
       "      <th>num</th>\n",
       "      <th>SK</th>\n",
       "      <th>Reaction</th>\n",
       "      <th>Mortality</th>\n",
       "      <th>Follow.Up</th>\n",
       "    </tr>\n",
       "  </thead>\n",
       "  <tbody>\n",
       "    <tr>\n",
       "      <th>count</th>\n",
       "      <td>368.000000</td>\n",
       "      <td>368.000000</td>\n",
       "      <td>368.000000</td>\n",
       "      <td>368.000000</td>\n",
       "      <td>368.000000</td>\n",
       "      <td>368.000000</td>\n",
       "      <td>368.000000</td>\n",
       "      <td>368.000000</td>\n",
       "      <td>368.000000</td>\n",
       "      <td>368.000000</td>\n",
       "      <td>...</td>\n",
       "      <td>368.000000</td>\n",
       "      <td>368.000000</td>\n",
       "      <td>368.000000</td>\n",
       "      <td>368.000000</td>\n",
       "      <td>368.000000</td>\n",
       "      <td>368.000000</td>\n",
       "      <td>368.000000</td>\n",
       "      <td>368.000000</td>\n",
       "      <td>368.000000</td>\n",
       "      <td>368.000000</td>\n",
       "    </tr>\n",
       "    <tr>\n",
       "      <th>mean</th>\n",
       "      <td>54.293478</td>\n",
       "      <td>0.195652</td>\n",
       "      <td>0.461957</td>\n",
       "      <td>121.213315</td>\n",
       "      <td>0.032609</td>\n",
       "      <td>219.991848</td>\n",
       "      <td>51.681522</td>\n",
       "      <td>1.716902</td>\n",
       "      <td>138.019022</td>\n",
       "      <td>4.210870</td>\n",
       "      <td>...</td>\n",
       "      <td>0.562500</td>\n",
       "      <td>1.541848</td>\n",
       "      <td>1.842391</td>\n",
       "      <td>1.002717</td>\n",
       "      <td>5.858696</td>\n",
       "      <td>2.035326</td>\n",
       "      <td>0.983696</td>\n",
       "      <td>0.747283</td>\n",
       "      <td>0.217391</td>\n",
       "      <td>28.652174</td>\n",
       "    </tr>\n",
       "    <tr>\n",
       "      <th>std</th>\n",
       "      <td>8.718158</td>\n",
       "      <td>0.397242</td>\n",
       "      <td>0.499229</td>\n",
       "      <td>24.539205</td>\n",
       "      <td>0.177852</td>\n",
       "      <td>139.337387</td>\n",
       "      <td>62.582571</td>\n",
       "      <td>3.609296</td>\n",
       "      <td>4.079879</td>\n",
       "      <td>0.394984</td>\n",
       "      <td>...</td>\n",
       "      <td>0.496754</td>\n",
       "      <td>1.385381</td>\n",
       "      <td>0.564284</td>\n",
       "      <td>1.037442</td>\n",
       "      <td>1.744319</td>\n",
       "      <td>1.031573</td>\n",
       "      <td>0.126816</td>\n",
       "      <td>0.435162</td>\n",
       "      <td>0.413033</td>\n",
       "      <td>15.811860</td>\n",
       "    </tr>\n",
       "    <tr>\n",
       "      <th>min</th>\n",
       "      <td>24.000000</td>\n",
       "      <td>0.000000</td>\n",
       "      <td>0.000000</td>\n",
       "      <td>80.500000</td>\n",
       "      <td>0.000000</td>\n",
       "      <td>60.000000</td>\n",
       "      <td>2.300000</td>\n",
       "      <td>0.600000</td>\n",
       "      <td>129.000000</td>\n",
       "      <td>3.300000</td>\n",
       "      <td>...</td>\n",
       "      <td>0.000000</td>\n",
       "      <td>0.000000</td>\n",
       "      <td>1.000000</td>\n",
       "      <td>0.000000</td>\n",
       "      <td>3.000000</td>\n",
       "      <td>1.000000</td>\n",
       "      <td>0.000000</td>\n",
       "      <td>0.000000</td>\n",
       "      <td>0.000000</td>\n",
       "      <td>1.000000</td>\n",
       "    </tr>\n",
       "    <tr>\n",
       "      <th>25%</th>\n",
       "      <td>50.750000</td>\n",
       "      <td>0.000000</td>\n",
       "      <td>0.000000</td>\n",
       "      <td>100.700000</td>\n",
       "      <td>0.000000</td>\n",
       "      <td>117.000000</td>\n",
       "      <td>28.000000</td>\n",
       "      <td>0.900000</td>\n",
       "      <td>135.000000</td>\n",
       "      <td>3.900000</td>\n",
       "      <td>...</td>\n",
       "      <td>0.000000</td>\n",
       "      <td>0.275000</td>\n",
       "      <td>1.750000</td>\n",
       "      <td>0.000000</td>\n",
       "      <td>3.000000</td>\n",
       "      <td>1.000000</td>\n",
       "      <td>1.000000</td>\n",
       "      <td>0.000000</td>\n",
       "      <td>0.000000</td>\n",
       "      <td>15.000000</td>\n",
       "    </tr>\n",
       "    <tr>\n",
       "      <th>50%</th>\n",
       "      <td>55.000000</td>\n",
       "      <td>0.000000</td>\n",
       "      <td>0.000000</td>\n",
       "      <td>120.800000</td>\n",
       "      <td>0.000000</td>\n",
       "      <td>164.000000</td>\n",
       "      <td>36.000000</td>\n",
       "      <td>0.900000</td>\n",
       "      <td>138.000000</td>\n",
       "      <td>4.200000</td>\n",
       "      <td>...</td>\n",
       "      <td>1.000000</td>\n",
       "      <td>1.200000</td>\n",
       "      <td>2.000000</td>\n",
       "      <td>1.000000</td>\n",
       "      <td>7.000000</td>\n",
       "      <td>2.000000</td>\n",
       "      <td>1.000000</td>\n",
       "      <td>1.000000</td>\n",
       "      <td>0.000000</td>\n",
       "      <td>32.000000</td>\n",
       "    </tr>\n",
       "    <tr>\n",
       "      <th>75%</th>\n",
       "      <td>60.250000</td>\n",
       "      <td>0.000000</td>\n",
       "      <td>1.000000</td>\n",
       "      <td>140.700000</td>\n",
       "      <td>0.000000</td>\n",
       "      <td>291.000000</td>\n",
       "      <td>43.000000</td>\n",
       "      <td>1.100000</td>\n",
       "      <td>141.000000</td>\n",
       "      <td>4.400000</td>\n",
       "      <td>...</td>\n",
       "      <td>1.000000</td>\n",
       "      <td>2.200000</td>\n",
       "      <td>2.000000</td>\n",
       "      <td>2.000000</td>\n",
       "      <td>7.000000</td>\n",
       "      <td>3.000000</td>\n",
       "      <td>1.000000</td>\n",
       "      <td>1.000000</td>\n",
       "      <td>0.000000</td>\n",
       "      <td>36.000000</td>\n",
       "    </tr>\n",
       "    <tr>\n",
       "      <th>max</th>\n",
       "      <td>77.000000</td>\n",
       "      <td>1.000000</td>\n",
       "      <td>1.000000</td>\n",
       "      <td>190.110000</td>\n",
       "      <td>1.000000</td>\n",
       "      <td>563.000000</td>\n",
       "      <td>394.000000</td>\n",
       "      <td>22.900000</td>\n",
       "      <td>146.000000</td>\n",
       "      <td>5.300000</td>\n",
       "      <td>...</td>\n",
       "      <td>1.000000</td>\n",
       "      <td>6.200000</td>\n",
       "      <td>3.000000</td>\n",
       "      <td>3.000000</td>\n",
       "      <td>7.000000</td>\n",
       "      <td>4.000000</td>\n",
       "      <td>1.000000</td>\n",
       "      <td>1.000000</td>\n",
       "      <td>1.000000</td>\n",
       "      <td>60.000000</td>\n",
       "    </tr>\n",
       "  </tbody>\n",
       "</table>\n",
       "<p>8 rows × 42 columns</p>\n",
       "</div>"
      ],
      "text/plain": [
       "              Age   F.History    Diabetes          BP  Thrombolysis  \\\n",
       "count  368.000000  368.000000  368.000000  368.000000    368.000000   \n",
       "mean    54.293478    0.195652    0.461957  121.213315      0.032609   \n",
       "std      8.718158    0.397242    0.499229   24.539205      0.177852   \n",
       "min     24.000000    0.000000    0.000000   80.500000      0.000000   \n",
       "25%     50.750000    0.000000    0.000000  100.700000      0.000000   \n",
       "50%     55.000000    0.000000    0.000000  120.800000      0.000000   \n",
       "75%     60.250000    0.000000    1.000000  140.700000      0.000000   \n",
       "max     77.000000    1.000000    1.000000  190.110000      1.000000   \n",
       "\n",
       "              BGR      B.Urea        S.Cr    S.Sodium  S.Potassium  ...  \\\n",
       "count  368.000000  368.000000  368.000000  368.000000   368.000000  ...   \n",
       "mean   219.991848   51.681522    1.716902  138.019022     4.210870  ...   \n",
       "std    139.337387   62.582571    3.609296    4.079879     0.394984  ...   \n",
       "min     60.000000    2.300000    0.600000  129.000000     3.300000  ...   \n",
       "25%    117.000000   28.000000    0.900000  135.000000     3.900000  ...   \n",
       "50%    164.000000   36.000000    0.900000  138.000000     4.200000  ...   \n",
       "75%    291.000000   43.000000    1.100000  141.000000     4.400000  ...   \n",
       "max    563.000000  394.000000   22.900000  146.000000     5.300000  ...   \n",
       "\n",
       "            exang     oldpeak       slope          ca        thal         num  \\\n",
       "count  368.000000  368.000000  368.000000  368.000000  368.000000  368.000000   \n",
       "mean     0.562500    1.541848    1.842391    1.002717    5.858696    2.035326   \n",
       "std      0.496754    1.385381    0.564284    1.037442    1.744319    1.031573   \n",
       "min      0.000000    0.000000    1.000000    0.000000    3.000000    1.000000   \n",
       "25%      0.000000    0.275000    1.750000    0.000000    3.000000    1.000000   \n",
       "50%      1.000000    1.200000    2.000000    1.000000    7.000000    2.000000   \n",
       "75%      1.000000    2.200000    2.000000    2.000000    7.000000    3.000000   \n",
       "max      1.000000    6.200000    3.000000    3.000000    7.000000    4.000000   \n",
       "\n",
       "               SK    Reaction   Mortality   Follow.Up  \n",
       "count  368.000000  368.000000  368.000000  368.000000  \n",
       "mean     0.983696    0.747283    0.217391   28.652174  \n",
       "std      0.126816    0.435162    0.413033   15.811860  \n",
       "min      0.000000    0.000000    0.000000    1.000000  \n",
       "25%      1.000000    0.000000    0.000000   15.000000  \n",
       "50%      1.000000    1.000000    0.000000   32.000000  \n",
       "75%      1.000000    1.000000    0.000000   36.000000  \n",
       "max      1.000000    1.000000    1.000000   60.000000  \n",
       "\n",
       "[8 rows x 42 columns]"
      ]
     },
     "execution_count": 139,
     "metadata": {},
     "output_type": "execute_result"
    }
   ],
   "source": [
    "df.describe()"
   ]
  },
  {
   "cell_type": "markdown",
   "id": "e481b759",
   "metadata": {},
   "source": [
    "# Preprocessing"
   ]
  },
  {
   "cell_type": "code",
   "execution_count": 140,
   "id": "e68d34dd",
   "metadata": {},
   "outputs": [
    {
     "data": {
      "text/plain": [
       "Age                                                                                         0\n",
       "Age.Group                                                                                   0\n",
       "Gender                                                                                      0\n",
       "Locality                                                                                    0\n",
       "Marital status                                                                              0\n",
       "Life.Style                                                                                  0\n",
       "Sleep                                                                                       0\n",
       "Category                                                                                    0\n",
       "Depression                                                                                  0\n",
       "Hyperlipi                                                                                   0\n",
       "Smoking                                                                                     0\n",
       "Family.History                                                                              0\n",
       "F.History                                                                                   0\n",
       "Diabetes                                                                                    0\n",
       "HTN                                                                                         0\n",
       "Allergies                                                                                   0\n",
       "BP                                                                                          0\n",
       "Thrombolysis                                                                                0\n",
       "BGR                                                                                         0\n",
       "B.Urea                                                                                      0\n",
       "S.Cr                                                                                        0\n",
       "S.Sodium                                                                                    0\n",
       "S.Potassium                                                                                 0\n",
       "S.Chloride                                                                                  0\n",
       "C.P.K                                                                                       0\n",
       "CK.MB                                                                                       0\n",
       "ESR                                                                                         0\n",
       "WBC                                                                                         0\n",
       "RBC                                                                                         0\n",
       "Hemoglobin                                                                                  0\n",
       "P.C.V                                                                                       0\n",
       "M.C.V                                                                                       0\n",
       "M.C.H                                                                                       0\n",
       "M.C.H.C                                                                                     0\n",
       "PLATELET_COUNT                                                                              0\n",
       "NEUTROPHIL                                                                                  0\n",
       "LYMPHO                                                                                      0\n",
       "MONOCYTE                                                                                    0\n",
       "EOSINO                                                                                      0\n",
       "Others                                                                                      0\n",
       "CO                                                                                          0\n",
       "Diagnosis                                                                                   0\n",
       "Hypersensitivity                                                                            0\n",
       "cp                                                                                          0\n",
       "trestbps                                                                                    0\n",
       "chol                                                                                        0\n",
       "fbs                                                                                         0\n",
       "restecg                                                                                     0\n",
       "thalach                                                                                     0\n",
       "exang                                                                                       0\n",
       "oldpeak                                                                                     0\n",
       "slope                                                                                       0\n",
       "ca                                                                                          0\n",
       "thal                                                                                        0\n",
       "num                                                                                         0\n",
       "SK                                                                                          0\n",
       "SK.React                                                                                    0\n",
       "Reaction                                                                                    0\n",
       "Mortality                                                                                   0\n",
       "Follow.Up                                                                                   0\n",
       "dtype: int64"
      ]
     },
     "execution_count": 140,
     "metadata": {},
     "output_type": "execute_result"
    }
   ],
   "source": [
    "df.isnull().sum()"
   ]
  },
  {
   "cell_type": "markdown",
   "id": "9c5bc759",
   "metadata": {},
   "source": [
    "### categorical features encoding"
   ]
  },
  {
   "cell_type": "code",
   "execution_count": 141,
   "id": "4418e1fc",
   "metadata": {},
   "outputs": [],
   "source": [
    "from sklearn.preprocessing import LabelEncoder"
   ]
  },
  {
   "cell_type": "markdown",
   "id": "4b2adffe",
   "metadata": {},
   "source": [
    "#### 'Age.Group' column"
   ]
  },
  {
   "cell_type": "code",
   "execution_count": 142,
   "id": "9712404c",
   "metadata": {},
   "outputs": [],
   "source": [
    "encoder_Age_Group = LabelEncoder()"
   ]
  },
  {
   "cell_type": "code",
   "execution_count": 143,
   "id": "823a1dfe",
   "metadata": {},
   "outputs": [
    {
     "data": {
      "text/plain": [
       "51-60    184\n",
       "61-70     91\n",
       "41-50     61\n",
       "31-40     20\n",
       "21-30     12\n",
       "Name: Age.Group, dtype: int64"
      ]
     },
     "execution_count": 143,
     "metadata": {},
     "output_type": "execute_result"
    }
   ],
   "source": [
    "df['Age.Group'].value_counts()"
   ]
  },
  {
   "cell_type": "code",
   "execution_count": 144,
   "id": "7e4884d8",
   "metadata": {},
   "outputs": [],
   "source": [
    "df['Age.Group'] = encoder_Age_Group.fit_transform(df['Age.Group']) "
   ]
  },
  {
   "cell_type": "code",
   "execution_count": 145,
   "id": "f2580da6",
   "metadata": {},
   "outputs": [
    {
     "data": {
      "text/plain": [
       "3    184\n",
       "4     91\n",
       "2     61\n",
       "1     20\n",
       "0     12\n",
       "Name: Age.Group, dtype: int64"
      ]
     },
     "execution_count": 145,
     "metadata": {},
     "output_type": "execute_result"
    }
   ],
   "source": [
    "df['Age.Group'].value_counts()"
   ]
  },
  {
   "cell_type": "markdown",
   "id": "f349db2e",
   "metadata": {},
   "source": [
    "#### 'Gender' Column"
   ]
  },
  {
   "cell_type": "code",
   "execution_count": 146,
   "id": "5c92e6ab",
   "metadata": {},
   "outputs": [],
   "source": [
    "encoder_gender = LabelEncoder()"
   ]
  },
  {
   "cell_type": "code",
   "execution_count": 147,
   "id": "559c21bc",
   "metadata": {},
   "outputs": [],
   "source": [
    "df['Gender'] = encoder_gender.fit_transform(df['Gender'])"
   ]
  },
  {
   "cell_type": "code",
   "execution_count": 148,
   "id": "e0f44e9a",
   "metadata": {},
   "outputs": [
    {
     "data": {
      "text/plain": [
       "1    285\n",
       "0     83\n",
       "Name: Gender, dtype: int64"
      ]
     },
     "execution_count": 148,
     "metadata": {},
     "output_type": "execute_result"
    }
   ],
   "source": [
    "df['Gender'].value_counts()"
   ]
  },
  {
   "cell_type": "code",
   "execution_count": 149,
   "id": "ce587583",
   "metadata": {},
   "outputs": [
    {
     "data": {
      "text/plain": [
       "array(['Female', 'Male'], dtype=object)"
      ]
     },
     "execution_count": 149,
     "metadata": {},
     "output_type": "execute_result"
    }
   ],
   "source": [
    "encoder_gender.classes_"
   ]
  },
  {
   "cell_type": "markdown",
   "id": "48a63953",
   "metadata": {},
   "source": [
    "#### Locality Column"
   ]
  },
  {
   "cell_type": "code",
   "execution_count": 150,
   "id": "636e9eae",
   "metadata": {},
   "outputs": [],
   "source": [
    "encoder_locality =LabelEncoder()\n"
   ]
  },
  {
   "cell_type": "code",
   "execution_count": 151,
   "id": "fae1cf82",
   "metadata": {},
   "outputs": [],
   "source": [
    "df['Locality  ']=encoder_locality.fit_transform(df['Locality  '])"
   ]
  },
  {
   "cell_type": "code",
   "execution_count": 152,
   "id": "daee0917",
   "metadata": {},
   "outputs": [
    {
     "data": {
      "text/plain": [
       "1    234\n",
       "0    134\n",
       "Name: Locality  , dtype: int64"
      ]
     },
     "execution_count": 152,
     "metadata": {},
     "output_type": "execute_result"
    }
   ],
   "source": [
    "df['Locality  '].value_counts()"
   ]
  },
  {
   "cell_type": "code",
   "execution_count": 153,
   "id": "7dec0320",
   "metadata": {},
   "outputs": [
    {
     "data": {
      "text/plain": [
       "array(['RURAL', 'URBAN'], dtype=object)"
      ]
     },
     "execution_count": 153,
     "metadata": {},
     "output_type": "execute_result"
    }
   ],
   "source": [
    "encoder_locality.classes_"
   ]
  },
  {
   "cell_type": "markdown",
   "id": "fd72b9c3",
   "metadata": {},
   "source": [
    "#### Marital stats coloum"
   ]
  },
  {
   "cell_type": "code",
   "execution_count": 154,
   "id": "479d2973",
   "metadata": {},
   "outputs": [],
   "source": [
    "encoder_Marital =LabelEncoder()"
   ]
  },
  {
   "cell_type": "code",
   "execution_count": 155,
   "id": "7d0fa61c",
   "metadata": {},
   "outputs": [],
   "source": [
    "df['Marital status                       ']=encoder_Marital.fit_transform(df['Marital status                       '])"
   ]
  },
  {
   "cell_type": "code",
   "execution_count": 156,
   "id": "6fd669fb",
   "metadata": {},
   "outputs": [
    {
     "data": {
      "text/plain": [
       "0    365\n",
       "1      3\n",
       "Name: Marital status                       , dtype: int64"
      ]
     },
     "execution_count": 156,
     "metadata": {},
     "output_type": "execute_result"
    }
   ],
   "source": [
    "df['Marital status                       '].value_counts()"
   ]
  },
  {
   "cell_type": "code",
   "execution_count": 157,
   "id": "23195d90",
   "metadata": {},
   "outputs": [
    {
     "data": {
      "text/plain": [
       "array(['MARRIED', 'SINGLE'], dtype=object)"
      ]
     },
     "execution_count": 157,
     "metadata": {},
     "output_type": "execute_result"
    }
   ],
   "source": [
    "encoder_Marital.classes_"
   ]
  },
  {
   "cell_type": "markdown",
   "id": "7f63bb7a",
   "metadata": {},
   "source": [
    "#### lifestylecoloum"
   ]
  },
  {
   "cell_type": "code",
   "execution_count": 158,
   "id": "8c7db819",
   "metadata": {},
   "outputs": [],
   "source": [
    "encoder_lifestyle=LabelEncoder()"
   ]
  },
  {
   "cell_type": "code",
   "execution_count": 159,
   "id": "4bfb2d51",
   "metadata": {},
   "outputs": [],
   "source": [
    "df['Life.Style                                                                              ']=encoder_lifestyle.fit_transform(df['Life.Style                                                                              '])"
   ]
  },
  {
   "cell_type": "code",
   "execution_count": 160,
   "id": "bd425dc8",
   "metadata": {},
   "outputs": [
    {
     "data": {
      "text/plain": [
       "1    217\n",
       "0    151\n",
       "Name: Life.Style                                                                              , dtype: int64"
      ]
     },
     "execution_count": 160,
     "metadata": {},
     "output_type": "execute_result"
    }
   ],
   "source": [
    "df['Life.Style                                                                              '].value_counts()"
   ]
  },
  {
   "cell_type": "code",
   "execution_count": 161,
   "id": "7b6db264",
   "metadata": {},
   "outputs": [
    {
     "data": {
      "text/plain": [
       "array(['NO', 'YES'], dtype=object)"
      ]
     },
     "execution_count": 161,
     "metadata": {},
     "output_type": "execute_result"
    }
   ],
   "source": [
    "encoder_lifestyle.classes_"
   ]
  },
  {
   "cell_type": "markdown",
   "id": "c2a46d7c",
   "metadata": {},
   "source": [
    "#### sleep"
   ]
  },
  {
   "cell_type": "code",
   "execution_count": 162,
   "id": "0209309f",
   "metadata": {},
   "outputs": [],
   "source": [
    "encoder_sleep=LabelEncoder()"
   ]
  },
  {
   "cell_type": "code",
   "execution_count": 163,
   "id": "45d885ec",
   "metadata": {},
   "outputs": [],
   "source": [
    "df['Sleep']=encoder_sleep.fit_transform(df['Sleep'])"
   ]
  },
  {
   "cell_type": "code",
   "execution_count": 164,
   "id": "5dc518db",
   "metadata": {},
   "outputs": [
    {
     "data": {
      "text/plain": [
       "0    224\n",
       "1    144\n",
       "Name: Sleep, dtype: int64"
      ]
     },
     "execution_count": 164,
     "metadata": {},
     "output_type": "execute_result"
    }
   ],
   "source": [
    "df['Sleep'].value_counts()"
   ]
  },
  {
   "cell_type": "code",
   "execution_count": 165,
   "id": "dc0f63c4",
   "metadata": {},
   "outputs": [
    {
     "data": {
      "text/plain": [
       "array(['NO', 'YES'], dtype=object)"
      ]
     },
     "execution_count": 165,
     "metadata": {},
     "output_type": "execute_result"
    }
   ],
   "source": [
    "encoder_sleep.classes_"
   ]
  },
  {
   "cell_type": "markdown",
   "id": "ea7f9b15",
   "metadata": {},
   "source": [
    "#### category"
   ]
  },
  {
   "cell_type": "code",
   "execution_count": 166,
   "id": "a3c0ec79",
   "metadata": {},
   "outputs": [],
   "source": [
    "encoder_category=LabelEncoder()"
   ]
  },
  {
   "cell_type": "code",
   "execution_count": 167,
   "id": "2e63375d",
   "metadata": {},
   "outputs": [],
   "source": [
    "df['Category']=encoder_category.fit_transform(df['Category'])"
   ]
  },
  {
   "cell_type": "code",
   "execution_count": 168,
   "id": "1a4d0a3e",
   "metadata": {},
   "outputs": [
    {
     "data": {
      "text/plain": [
       "0    331\n",
       "1     37\n",
       "Name: Category, dtype: int64"
      ]
     },
     "execution_count": 168,
     "metadata": {},
     "output_type": "execute_result"
    }
   ],
   "source": [
    "df['Category'].value_counts()"
   ]
  },
  {
   "cell_type": "code",
   "execution_count": 169,
   "id": "f52f257c",
   "metadata": {},
   "outputs": [
    {
     "data": {
      "text/plain": [
       "array(['FREE', 'PAID'], dtype=object)"
      ]
     },
     "execution_count": 169,
     "metadata": {},
     "output_type": "execute_result"
    }
   ],
   "source": [
    "encoder_category.classes_"
   ]
  },
  {
   "cell_type": "markdown",
   "id": "c8c83896",
   "metadata": {},
   "source": [
    "#### 'Depression'"
   ]
  },
  {
   "cell_type": "code",
   "execution_count": 170,
   "id": "0e110146",
   "metadata": {},
   "outputs": [],
   "source": [
    "encoder_Depression=LabelEncoder()"
   ]
  },
  {
   "cell_type": "code",
   "execution_count": 171,
   "id": "9ecfe6f1",
   "metadata": {},
   "outputs": [],
   "source": [
    "df['Depression']=encoder_Depression.fit_transform(df['Depression'])"
   ]
  },
  {
   "cell_type": "code",
   "execution_count": 172,
   "id": "28fc43e9",
   "metadata": {},
   "outputs": [
    {
     "data": {
      "text/plain": [
       "1    351\n",
       "0     17\n",
       "Name: Depression, dtype: int64"
      ]
     },
     "execution_count": 172,
     "metadata": {},
     "output_type": "execute_result"
    }
   ],
   "source": [
    "df['Depression'].value_counts()"
   ]
  },
  {
   "cell_type": "code",
   "execution_count": 173,
   "id": "5802a1f2",
   "metadata": {},
   "outputs": [
    {
     "data": {
      "text/plain": [
       "array(['NO', 'YES'], dtype=object)"
      ]
     },
     "execution_count": 173,
     "metadata": {},
     "output_type": "execute_result"
    }
   ],
   "source": [
    "encoder_Depression.classes_"
   ]
  },
  {
   "cell_type": "markdown",
   "id": "bedb6f7a",
   "metadata": {},
   "source": [
    "#### 'Hyperlipi'"
   ]
  },
  {
   "cell_type": "code",
   "execution_count": 174,
   "id": "603b7809",
   "metadata": {},
   "outputs": [],
   "source": [
    "encoder_Hyperlipi=LabelEncoder()"
   ]
  },
  {
   "cell_type": "code",
   "execution_count": 175,
   "id": "1bcd6a8c",
   "metadata": {},
   "outputs": [],
   "source": [
    "df['Hyperlipi']=encoder_Hyperlipi.fit_transform(df['Hyperlipi'])"
   ]
  },
  {
   "cell_type": "code",
   "execution_count": 176,
   "id": "5cc590f8",
   "metadata": {},
   "outputs": [
    {
     "data": {
      "text/plain": [
       "1    341\n",
       "0     27\n",
       "Name: Hyperlipi, dtype: int64"
      ]
     },
     "execution_count": 176,
     "metadata": {},
     "output_type": "execute_result"
    }
   ],
   "source": [
    "df['Hyperlipi'].value_counts()"
   ]
  },
  {
   "cell_type": "code",
   "execution_count": 177,
   "id": "ada67edb",
   "metadata": {},
   "outputs": [
    {
     "data": {
      "text/plain": [
       "array(['NO', 'YES'], dtype=object)"
      ]
     },
     "execution_count": 177,
     "metadata": {},
     "output_type": "execute_result"
    }
   ],
   "source": [
    "encoder_Hyperlipi.classes_"
   ]
  },
  {
   "cell_type": "markdown",
   "id": "aab9ba99",
   "metadata": {},
   "source": [
    "#### 'Smoking'"
   ]
  },
  {
   "cell_type": "code",
   "execution_count": 178,
   "id": "ab99f0a9",
   "metadata": {},
   "outputs": [],
   "source": [
    "encoder_Smoking=LabelEncoder()"
   ]
  },
  {
   "cell_type": "code",
   "execution_count": 179,
   "id": "7fa99308",
   "metadata": {},
   "outputs": [],
   "source": [
    "df['Smoking']=encoder_Smoking.fit_transform(df['Smoking'])"
   ]
  },
  {
   "cell_type": "code",
   "execution_count": 180,
   "id": "4d05ca9d",
   "metadata": {},
   "outputs": [
    {
     "data": {
      "text/plain": [
       "1    195\n",
       "0    173\n",
       "Name: Smoking, dtype: int64"
      ]
     },
     "execution_count": 180,
     "metadata": {},
     "output_type": "execute_result"
    }
   ],
   "source": [
    "df['Smoking'].value_counts()"
   ]
  },
  {
   "cell_type": "code",
   "execution_count": 181,
   "id": "476fa13d",
   "metadata": {},
   "outputs": [
    {
     "data": {
      "text/plain": [
       "array(['NO', 'YES'], dtype=object)"
      ]
     },
     "execution_count": 181,
     "metadata": {},
     "output_type": "execute_result"
    }
   ],
   "source": [
    "encoder_Smoking.classes_"
   ]
  },
  {
   "cell_type": "markdown",
   "id": "a6d02f5a",
   "metadata": {},
   "source": [
    "#### 'Family.History'"
   ]
  },
  {
   "cell_type": "code",
   "execution_count": 182,
   "id": "7c518bff",
   "metadata": {},
   "outputs": [],
   "source": [
    "encoder_history=LabelEncoder()"
   ]
  },
  {
   "cell_type": "code",
   "execution_count": 183,
   "id": "26216ab7",
   "metadata": {},
   "outputs": [],
   "source": [
    "df['Family.History']=encoder_history.fit_transform(df['Family.History'])"
   ]
  },
  {
   "cell_type": "code",
   "execution_count": 184,
   "id": "0e0da76d",
   "metadata": {},
   "outputs": [
    {
     "data": {
      "text/plain": [
       "0    296\n",
       "1     72\n",
       "Name: Family.History, dtype: int64"
      ]
     },
     "execution_count": 184,
     "metadata": {},
     "output_type": "execute_result"
    }
   ],
   "source": [
    "df['Family.History'].value_counts()"
   ]
  },
  {
   "cell_type": "code",
   "execution_count": 185,
   "id": "2a7070e4",
   "metadata": {},
   "outputs": [
    {
     "data": {
      "text/plain": [
       "array(['NO', 'YES'], dtype=object)"
      ]
     },
     "execution_count": 185,
     "metadata": {},
     "output_type": "execute_result"
    }
   ],
   "source": [
    "encoder_history.classes_"
   ]
  },
  {
   "cell_type": "markdown",
   "id": "9169bd74",
   "metadata": {},
   "source": [
    "#### 'HTN'"
   ]
  },
  {
   "cell_type": "code",
   "execution_count": 186,
   "id": "4c9a1e4e",
   "metadata": {},
   "outputs": [],
   "source": [
    "encoder_HTN=LabelEncoder()"
   ]
  },
  {
   "cell_type": "code",
   "execution_count": 187,
   "id": "822ecb83",
   "metadata": {},
   "outputs": [],
   "source": [
    "df['HTN']=encoder_HTN.fit_transform(df['HTN'])"
   ]
  },
  {
   "cell_type": "code",
   "execution_count": 188,
   "id": "77d3fa26",
   "metadata": {},
   "outputs": [
    {
     "data": {
      "text/plain": [
       "1    201\n",
       "0    167\n",
       "Name: HTN, dtype: int64"
      ]
     },
     "execution_count": 188,
     "metadata": {},
     "output_type": "execute_result"
    }
   ],
   "source": [
    "df['HTN'].value_counts()"
   ]
  },
  {
   "cell_type": "code",
   "execution_count": 189,
   "id": "f4b33c4b",
   "metadata": {},
   "outputs": [
    {
     "data": {
      "text/plain": [
       "array(['NO', 'YES'], dtype=object)"
      ]
     },
     "execution_count": 189,
     "metadata": {},
     "output_type": "execute_result"
    }
   ],
   "source": [
    "encoder_HTN.classes_"
   ]
  },
  {
   "cell_type": "markdown",
   "id": "9f5160ab",
   "metadata": {},
   "source": [
    "#### allgeries"
   ]
  },
  {
   "cell_type": "code",
   "execution_count": 190,
   "id": "77c10e59",
   "metadata": {},
   "outputs": [],
   "source": [
    "encoder_Allergies=LabelEncoder()"
   ]
  },
  {
   "cell_type": "code",
   "execution_count": 191,
   "id": "84d68de8",
   "metadata": {},
   "outputs": [],
   "source": [
    "df['Allergies']=encoder_Allergies.fit_transform(df['Allergies'])"
   ]
  },
  {
   "cell_type": "code",
   "execution_count": 192,
   "id": "1c9f1b91",
   "metadata": {},
   "outputs": [
    {
     "data": {
      "text/plain": [
       "0    357\n",
       "1     11\n",
       "Name: Allergies, dtype: int64"
      ]
     },
     "execution_count": 192,
     "metadata": {},
     "output_type": "execute_result"
    }
   ],
   "source": [
    "df['Allergies'].value_counts()"
   ]
  },
  {
   "cell_type": "code",
   "execution_count": 193,
   "id": "4b5b1d01",
   "metadata": {},
   "outputs": [
    {
     "data": {
      "text/plain": [
       "array(['NO', 'YES'], dtype=object)"
      ]
     },
     "execution_count": 193,
     "metadata": {},
     "output_type": "execute_result"
    }
   ],
   "source": [
    "encoder_Allergies.classes_"
   ]
  },
  {
   "cell_type": "markdown",
   "id": "6ffd8bd1",
   "metadata": {},
   "source": [
    "#### others"
   ]
  },
  {
   "cell_type": "code",
   "execution_count": 194,
   "id": "df002b01",
   "metadata": {},
   "outputs": [],
   "source": [
    "encoder_others=LabelEncoder()"
   ]
  },
  {
   "cell_type": "code",
   "execution_count": 195,
   "id": "d43fa713",
   "metadata": {},
   "outputs": [],
   "source": [
    "df['Others ']=encoder_others.fit_transform(df['Others '])"
   ]
  },
  {
   "cell_type": "code",
   "execution_count": 196,
   "id": "f37b24ff",
   "metadata": {},
   "outputs": [
    {
     "data": {
      "text/plain": [
       "16    201\n",
       "5      53\n",
       "6      19\n",
       "13     16\n",
       "9      10\n",
       "2      10\n",
       "0      10\n",
       "8       7\n",
       "11      7\n",
       "4       6\n",
       "1       6\n",
       "12      6\n",
       "7       6\n",
       "15      5\n",
       "14      2\n",
       "3       2\n",
       "10      2\n",
       "Name: Others , dtype: int64"
      ]
     },
     "execution_count": 196,
     "metadata": {},
     "output_type": "execute_result"
    }
   ],
   "source": [
    "df['Others '].value_counts()"
   ]
  },
  {
   "cell_type": "code",
   "execution_count": 197,
   "id": "8dfe7ba2",
   "metadata": {},
   "outputs": [
    {
     "data": {
      "text/plain": [
       "array(['ACS', 'CHB, RV INFARCT', 'DM', 'DM,M.I', 'HCV, IHD', 'HTN',\n",
       "       'HTN, DM', 'ICMP WITH EF= 30%,PULMONAR ODEMA', 'IHD, HTN',\n",
       "       'IHD, SOB', 'IHD,DM', 'LV dysfunction', 'ORTHOPENIA, PND',\n",
       "       'PND, ORTHOPENIA', 'PULMONARY ODEMA ', 'SEIZARIAN, HYSTECTOMY.',\n",
       "       'no'], dtype=object)"
      ]
     },
     "execution_count": 197,
     "metadata": {},
     "output_type": "execute_result"
    }
   ],
   "source": [
    "encoder_others.classes_"
   ]
  },
  {
   "cell_type": "markdown",
   "id": "5f1092dc",
   "metadata": {},
   "source": [
    "#### CO"
   ]
  },
  {
   "cell_type": "code",
   "execution_count": 198,
   "id": "527ef870",
   "metadata": {},
   "outputs": [],
   "source": [
    "encoder_co =LabelEncoder()"
   ]
  },
  {
   "cell_type": "code",
   "execution_count": 199,
   "id": "9fcb859e",
   "metadata": {},
   "outputs": [],
   "source": [
    "df['CO']=encoder_co.fit_transform(df['CO'])"
   ]
  },
  {
   "cell_type": "code",
   "execution_count": 200,
   "id": "f9323a83",
   "metadata": {},
   "outputs": [
    {
     "data": {
      "text/plain": [
       "7     84\n",
       "13    23\n",
       "33    17\n",
       "35    16\n",
       "18    16\n",
       "0     12\n",
       "31    10\n",
       "27    10\n",
       "20    10\n",
       "22    10\n",
       "8     10\n",
       "30    10\n",
       "3     10\n",
       "23    10\n",
       "1      9\n",
       "24     7\n",
       "16     7\n",
       "17     7\n",
       "26     7\n",
       "5      7\n",
       "21     7\n",
       "32     6\n",
       "25     6\n",
       "2      6\n",
       "6      6\n",
       "34     6\n",
       "9      6\n",
       "36     6\n",
       "29     5\n",
       "15     5\n",
       "19     5\n",
       "11     2\n",
       "28     2\n",
       "14     2\n",
       "12     2\n",
       "10     2\n",
       "4      2\n",
       "Name: CO, dtype: int64"
      ]
     },
     "execution_count": 200,
     "metadata": {},
     "output_type": "execute_result"
    }
   ],
   "source": [
    "df['CO'].value_counts()"
   ]
  },
  {
   "cell_type": "code",
   "execution_count": 201,
   "id": "08b0e575",
   "metadata": {},
   "outputs": [
    {
     "data": {
      "text/plain": [
       "array(['CENTRAL Chest pain,', 'Central Chest pain,',\n",
       "       'Central Chest pain,SOB, Sweating', 'Chest pain 1 hr',\n",
       "       'Chest pain 6 HR', 'Chest pain for 2 to 3 hr',\n",
       "       'Chest pain from 3 hr', 'Chest pain,', 'Chest pain, 2 HR',\n",
       "       'Chest pain, 4 HR', 'Chest pain, COLD SWEATING',\n",
       "       'Chest pain, SOB,', 'Chest pain, SOB,COLD SWEATING',\n",
       "       'Chest pain, SWEATING', 'Chest pain, SWEATING,VOMITING',\n",
       "       'Chest pain, Sweating, SOB', 'Chest pain, TIGHTNESS',\n",
       "       'Chest pain, VERTIGO,SWEATING', 'Chest pain, VOMITING',\n",
       "       'Chest pain,COLD SWEATING, ', 'Chest pain,COLD SWEATING, VOMITING',\n",
       "       'Chest pain,COUGH', 'Chest pain,NAUSEA, SWELLOWING',\n",
       "       'Chest pain,SOB', 'Chest pain,SOB, Cold sweating',\n",
       "       'Chest pain,SOB, HEART SINKING , PALPITATION',\n",
       "       'Chest pain,SWEATING, NAUSEA', 'Chest pain,Sweating, ',\n",
       "       'Chest pain,VOMITING. SWEATING ', 'Chest pain,VOMITING.,SOB',\n",
       "       'Chest pain,heart sinking, vomiting',\n",
       "       'Chest pain,nausea,vertigo,sweating,headache',\n",
       "       'Chest pain,sweating,vomiting', 'Chest pain,vomiting, sweating',\n",
       "       'Chest pain4 HR, SWEATING', 'SOB FROM 1 DAY ',\n",
       "       'SOB, DIZZINESS, CHEST PAIN,NAUSEA,DIAPHORESIS'], dtype=object)"
      ]
     },
     "execution_count": 201,
     "metadata": {},
     "output_type": "execute_result"
    }
   ],
   "source": [
    "encoder_co.classes_"
   ]
  },
  {
   "cell_type": "markdown",
   "id": "b9641543",
   "metadata": {},
   "source": [
    "#### 'Diagnosis'"
   ]
  },
  {
   "cell_type": "code",
   "execution_count": 202,
   "id": "f21a186e",
   "metadata": {},
   "outputs": [],
   "source": [
    "encoder_Diagnosis =LabelEncoder()"
   ]
  },
  {
   "cell_type": "code",
   "execution_count": 203,
   "id": "2eee3423",
   "metadata": {},
   "outputs": [],
   "source": [
    "df['Diagnosis']=encoder_Diagnosis.fit_transform(df['Diagnosis'])"
   ]
  },
  {
   "cell_type": "code",
   "execution_count": 204,
   "id": "137c8a2d",
   "metadata": {},
   "outputs": [
    {
     "data": {
      "text/plain": [
       "7     44\n",
       "6     35\n",
       "25    20\n",
       "19    20\n",
       "26    17\n",
       "15    16\n",
       "31    12\n",
       "5     11\n",
       "30    10\n",
       "1     10\n",
       "13    10\n",
       "35    10\n",
       "18    10\n",
       "17    10\n",
       "29    10\n",
       "32    10\n",
       "2      7\n",
       "11     7\n",
       "16     7\n",
       "34     7\n",
       "3      7\n",
       "20     7\n",
       "22     7\n",
       "8      7\n",
       "0      6\n",
       "36     6\n",
       "23     6\n",
       "33     6\n",
       "24     6\n",
       "21     6\n",
       "4      5\n",
       "27     4\n",
       "9      4\n",
       "12     2\n",
       "10     2\n",
       "28     2\n",
       "14     2\n",
       "Name: Diagnosis, dtype: int64"
      ]
     },
     "execution_count": 204,
     "metadata": {},
     "output_type": "execute_result"
    }
   ],
   "source": [
    "df['Diagnosis'].value_counts()"
   ]
  },
  {
   "cell_type": "code",
   "execution_count": 205,
   "id": "605f6e38",
   "metadata": {},
   "outputs": [
    {
     "data": {
      "text/plain": [
       "array(['A LATERAL WALL M.I', 'A/C, A/W M.I', 'A/CI/W M.I', 'A/L WALL M.I',\n",
       "       'A/S M.I', 'A/S WALL M.I', 'A/W M.I', 'AC I/W M.I',\n",
       "       'AC I/W M.I (RV) RE. M.I ', 'AC. A/L M.I', 'AC. A/W M.I',\n",
       "       'AC. I/W M.I', 'AC. I/W M.I, SHOCK', 'AC. WALL M.I', 'AC.LBBB',\n",
       "       'ACS, NSTEMI', 'ACS. ACUTE LEFT WALL M.I', 'ACUTE I/W M.I',\n",
       "       'Ac I/P M.Iwith RV Infarct', 'Acute I/W M.I',\n",
       "       'Acute and Ant Wall MI, ACS.', 'CARDIOGENIC SHOCK',\n",
       "       'EXT. ACUTE WALL M.I', 'Ext. Ant wall M.I', 'I/P M.I', 'I/W M.I',\n",
       "       'INF WALL M.I', 'Inf wall M.I', 'Inf wall RE. M.I',\n",
       "       'Inf. Wall M.I', 'M.I ,ACS', 'NSTEM.I', 'POSTERIOR WALL M.I',\n",
       "       'SEVERE MR, MVR', 'ST-T ELEVATION POST SK', 'STEMI',\n",
       "       'old I/W M.I, ACS.'], dtype=object)"
      ]
     },
     "execution_count": 205,
     "metadata": {},
     "output_type": "execute_result"
    }
   ],
   "source": [
    "encoder_Diagnosis.classes_"
   ]
  },
  {
   "cell_type": "markdown",
   "id": "5fc983f9",
   "metadata": {},
   "source": [
    "#### 'Hypersensitivity'"
   ]
  },
  {
   "cell_type": "code",
   "execution_count": 206,
   "id": "9d044ba0",
   "metadata": {},
   "outputs": [],
   "source": [
    "encoder_Hypersensitivity =LabelEncoder()"
   ]
  },
  {
   "cell_type": "code",
   "execution_count": 207,
   "id": "b7564b9a",
   "metadata": {},
   "outputs": [],
   "source": [
    "df['Hypersensitivity']=encoder_Hypersensitivity.fit_transform(df['Hypersensitivity'])"
   ]
  },
  {
   "cell_type": "code",
   "execution_count": 208,
   "id": "59923c23",
   "metadata": {},
   "outputs": [
    {
     "data": {
      "text/plain": [
       "0    356\n",
       "1     12\n",
       "Name: Hypersensitivity, dtype: int64"
      ]
     },
     "execution_count": 208,
     "metadata": {},
     "output_type": "execute_result"
    }
   ],
   "source": [
    "df['Hypersensitivity'].value_counts()"
   ]
  },
  {
   "cell_type": "code",
   "execution_count": 209,
   "id": "b4955b38",
   "metadata": {},
   "outputs": [
    {
     "data": {
      "text/plain": [
       "array(['NO', 'YES'], dtype=object)"
      ]
     },
     "execution_count": 209,
     "metadata": {},
     "output_type": "execute_result"
    }
   ],
   "source": [
    "encoder_Hypersensitivity.classes_"
   ]
  },
  {
   "cell_type": "markdown",
   "id": "126295b8",
   "metadata": {},
   "source": [
    "#### 'SK.React'"
   ]
  },
  {
   "cell_type": "code",
   "execution_count": 210,
   "id": "d6f38865",
   "metadata": {},
   "outputs": [],
   "source": [
    "encoder_SK_React =LabelEncoder()"
   ]
  },
  {
   "cell_type": "code",
   "execution_count": 211,
   "id": "c7b2d678",
   "metadata": {},
   "outputs": [],
   "source": [
    "df['SK.React']=encoder_SK_React.fit_transform(df['SK.React'])"
   ]
  },
  {
   "cell_type": "code",
   "execution_count": 212,
   "id": "3403a1b0",
   "metadata": {},
   "outputs": [
    {
     "data": {
      "text/plain": [
       "1    146\n",
       "4     93\n",
       "5     52\n",
       "0     28\n",
       "6     25\n",
       "2     16\n",
       "3      8\n",
       "Name: SK.React, dtype: int64"
      ]
     },
     "execution_count": 212,
     "metadata": {},
     "output_type": "execute_result"
    }
   ],
   "source": [
    "df['SK.React'].value_counts()"
   ]
  },
  {
   "cell_type": "code",
   "execution_count": 213,
   "id": "13db3bc1",
   "metadata": {},
   "outputs": [
    {
     "data": {
      "text/plain": [
       "array(['BODY.PAIN', 'COUGH.BLEEDING', 'LUNGS', 'NAUSEA.TEMP', 'NO',\n",
       "       'SKIN.BLEEDING', 'STOMACH.BLEEDING'], dtype=object)"
      ]
     },
     "execution_count": 213,
     "metadata": {},
     "output_type": "execute_result"
    }
   ],
   "source": [
    "encoder_SK_React.classes_"
   ]
  },
  {
   "cell_type": "markdown",
   "id": "caf7bee6",
   "metadata": {},
   "source": [
    "# Feature Scaling"
   ]
  },
  {
   "cell_type": "code",
   "execution_count": 214,
   "id": "32782a30",
   "metadata": {},
   "outputs": [
    {
     "data": {
      "text/plain": [
       "Index(['Age', 'Age.Group', 'Gender', 'Locality  ',\n",
       "       'Marital status                       ',\n",
       "       'Life.Style                                                                              ',\n",
       "       'Sleep', 'Category', 'Depression', 'Hyperlipi', 'Smoking',\n",
       "       'Family.History', 'F.History', 'Diabetes', 'HTN', 'Allergies', 'BP',\n",
       "       'Thrombolysis', 'BGR', 'B.Urea', 'S.Cr', 'S.Sodium', 'S.Potassium',\n",
       "       'S.Chloride', 'C.P.K', 'CK.MB', 'ESR', 'WBC', 'RBC', 'Hemoglobin',\n",
       "       'P.C.V', 'M.C.V', 'M.C.H', 'M.C.H.C', 'PLATELET_COUNT', 'NEUTROPHIL',\n",
       "       'LYMPHO', 'MONOCYTE', 'EOSINO', 'Others ', 'CO', 'Diagnosis',\n",
       "       'Hypersensitivity', 'cp', 'trestbps', 'chol', 'fbs', 'restecg',\n",
       "       'thalach', 'exang', 'oldpeak', 'slope', 'ca', 'thal', 'num', 'SK',\n",
       "       'SK.React', 'Reaction', 'Mortality', 'Follow.Up'],\n",
       "      dtype='object')"
      ]
     },
     "execution_count": 214,
     "metadata": {},
     "output_type": "execute_result"
    }
   ],
   "source": [
    "df.columns"
   ]
  },
  {
   "cell_type": "code",
   "execution_count": 215,
   "id": "5c8e6b43",
   "metadata": {},
   "outputs": [],
   "source": [
    "input_features = ['Age', 'Age.Group', 'Gender', 'Locality  ',\n",
    "       'Marital status                       ',\n",
    "       'Life.Style                                                                              ',\n",
    "       'Sleep', 'Category', 'Depression', 'Hyperlipi', 'Smoking',\n",
    "       'Family.History', 'F.History', 'Diabetes', 'HTN', 'Allergies', 'BP',\n",
    "       'Thrombolysis', 'BGR', 'B.Urea', 'S.Cr', 'S.Sodium', 'S.Potassium',\n",
    "       'S.Chloride', 'C.P.K', 'CK.MB', 'ESR', 'WBC', 'RBC', 'Hemoglobin',\n",
    "       'P.C.V', 'M.C.V', 'M.C.H', 'M.C.H.C', 'PLATELET_COUNT', 'NEUTROPHIL',\n",
    "       'LYMPHO', 'MONOCYTE', 'EOSINO', 'Others ', 'CO', 'Diagnosis',\n",
    "       'Hypersensitivity', 'cp', 'trestbps', 'chol', 'fbs', 'restecg',\n",
    "       'thalach', 'exang', 'oldpeak', 'slope', 'ca', 'thal', 'num', 'SK',\n",
    "       'SK.React', 'Reaction', 'Follow.Up']"
   ]
  },
  {
   "cell_type": "code",
   "execution_count": 216,
   "id": "e291ea96",
   "metadata": {},
   "outputs": [],
   "source": [
    "from sklearn.preprocessing import MinMaxScaler"
   ]
  },
  {
   "cell_type": "code",
   "execution_count": 217,
   "id": "3ab27158",
   "metadata": {},
   "outputs": [],
   "source": [
    "scaling = MinMaxScaler()"
   ]
  },
  {
   "cell_type": "code",
   "execution_count": 218,
   "id": "766403cf",
   "metadata": {},
   "outputs": [],
   "source": [
    "for feature in input_features:\n",
    "    df[feature] = scaling.fit_transform(df[[feature]])"
   ]
  },
  {
   "cell_type": "code",
   "execution_count": 219,
   "id": "5436c3e6",
   "metadata": {},
   "outputs": [
    {
     "data": {
      "text/html": [
       "<div>\n",
       "<style scoped>\n",
       "    .dataframe tbody tr th:only-of-type {\n",
       "        vertical-align: middle;\n",
       "    }\n",
       "\n",
       "    .dataframe tbody tr th {\n",
       "        vertical-align: top;\n",
       "    }\n",
       "\n",
       "    .dataframe thead th {\n",
       "        text-align: right;\n",
       "    }\n",
       "</style>\n",
       "<table border=\"1\" class=\"dataframe\">\n",
       "  <thead>\n",
       "    <tr style=\"text-align: right;\">\n",
       "      <th></th>\n",
       "      <th>Age</th>\n",
       "      <th>Age.Group</th>\n",
       "      <th>Gender</th>\n",
       "      <th>Locality</th>\n",
       "      <th>Marital status</th>\n",
       "      <th>Life.Style</th>\n",
       "      <th>Sleep</th>\n",
       "      <th>Category</th>\n",
       "      <th>Depression</th>\n",
       "      <th>Hyperlipi</th>\n",
       "      <th>...</th>\n",
       "      <th>oldpeak</th>\n",
       "      <th>slope</th>\n",
       "      <th>ca</th>\n",
       "      <th>thal</th>\n",
       "      <th>num</th>\n",
       "      <th>SK</th>\n",
       "      <th>SK.React</th>\n",
       "      <th>Reaction</th>\n",
       "      <th>Mortality</th>\n",
       "      <th>Follow.Up</th>\n",
       "    </tr>\n",
       "  </thead>\n",
       "  <tbody>\n",
       "    <tr>\n",
       "      <th>0</th>\n",
       "      <td>0.396226</td>\n",
       "      <td>0.50</td>\n",
       "      <td>0.0</td>\n",
       "      <td>0.0</td>\n",
       "      <td>0.0</td>\n",
       "      <td>0.0</td>\n",
       "      <td>0.0</td>\n",
       "      <td>0.0</td>\n",
       "      <td>1.0</td>\n",
       "      <td>1.0</td>\n",
       "      <td>...</td>\n",
       "      <td>0.483871</td>\n",
       "      <td>0.5</td>\n",
       "      <td>0.000000</td>\n",
       "      <td>1.0</td>\n",
       "      <td>0.333333</td>\n",
       "      <td>1.0</td>\n",
       "      <td>0.666667</td>\n",
       "      <td>0.0</td>\n",
       "      <td>0</td>\n",
       "      <td>1.000000</td>\n",
       "    </tr>\n",
       "    <tr>\n",
       "      <th>1</th>\n",
       "      <td>0.509434</td>\n",
       "      <td>0.75</td>\n",
       "      <td>0.0</td>\n",
       "      <td>1.0</td>\n",
       "      <td>0.0</td>\n",
       "      <td>0.0</td>\n",
       "      <td>0.0</td>\n",
       "      <td>0.0</td>\n",
       "      <td>1.0</td>\n",
       "      <td>1.0</td>\n",
       "      <td>...</td>\n",
       "      <td>0.193548</td>\n",
       "      <td>0.5</td>\n",
       "      <td>0.000000</td>\n",
       "      <td>1.0</td>\n",
       "      <td>0.333333</td>\n",
       "      <td>1.0</td>\n",
       "      <td>0.666667</td>\n",
       "      <td>0.0</td>\n",
       "      <td>0</td>\n",
       "      <td>0.237288</td>\n",
       "    </tr>\n",
       "    <tr>\n",
       "      <th>2</th>\n",
       "      <td>0.584906</td>\n",
       "      <td>0.75</td>\n",
       "      <td>0.0</td>\n",
       "      <td>0.0</td>\n",
       "      <td>0.0</td>\n",
       "      <td>1.0</td>\n",
       "      <td>1.0</td>\n",
       "      <td>0.0</td>\n",
       "      <td>1.0</td>\n",
       "      <td>1.0</td>\n",
       "      <td>...</td>\n",
       "      <td>0.548387</td>\n",
       "      <td>0.5</td>\n",
       "      <td>0.000000</td>\n",
       "      <td>0.0</td>\n",
       "      <td>0.333333</td>\n",
       "      <td>1.0</td>\n",
       "      <td>0.666667</td>\n",
       "      <td>0.0</td>\n",
       "      <td>0</td>\n",
       "      <td>0.084746</td>\n",
       "    </tr>\n",
       "    <tr>\n",
       "      <th>3</th>\n",
       "      <td>0.584906</td>\n",
       "      <td>0.75</td>\n",
       "      <td>0.0</td>\n",
       "      <td>0.0</td>\n",
       "      <td>0.0</td>\n",
       "      <td>1.0</td>\n",
       "      <td>1.0</td>\n",
       "      <td>0.0</td>\n",
       "      <td>1.0</td>\n",
       "      <td>1.0</td>\n",
       "      <td>...</td>\n",
       "      <td>0.322581</td>\n",
       "      <td>0.5</td>\n",
       "      <td>0.333333</td>\n",
       "      <td>1.0</td>\n",
       "      <td>0.666667</td>\n",
       "      <td>1.0</td>\n",
       "      <td>0.666667</td>\n",
       "      <td>0.0</td>\n",
       "      <td>0</td>\n",
       "      <td>0.864407</td>\n",
       "    </tr>\n",
       "    <tr>\n",
       "      <th>4</th>\n",
       "      <td>0.603774</td>\n",
       "      <td>0.75</td>\n",
       "      <td>0.0</td>\n",
       "      <td>0.0</td>\n",
       "      <td>0.0</td>\n",
       "      <td>1.0</td>\n",
       "      <td>0.0</td>\n",
       "      <td>0.0</td>\n",
       "      <td>1.0</td>\n",
       "      <td>1.0</td>\n",
       "      <td>...</td>\n",
       "      <td>0.645161</td>\n",
       "      <td>1.0</td>\n",
       "      <td>0.666667</td>\n",
       "      <td>1.0</td>\n",
       "      <td>0.666667</td>\n",
       "      <td>1.0</td>\n",
       "      <td>0.666667</td>\n",
       "      <td>0.0</td>\n",
       "      <td>0</td>\n",
       "      <td>0.559322</td>\n",
       "    </tr>\n",
       "  </tbody>\n",
       "</table>\n",
       "<p>5 rows × 60 columns</p>\n",
       "</div>"
      ],
      "text/plain": [
       "        Age  Age.Group  Gender  Locality    \\\n",
       "0  0.396226       0.50     0.0         0.0   \n",
       "1  0.509434       0.75     0.0         1.0   \n",
       "2  0.584906       0.75     0.0         0.0   \n",
       "3  0.584906       0.75     0.0         0.0   \n",
       "4  0.603774       0.75     0.0         0.0   \n",
       "\n",
       "   Marital status                         \\\n",
       "0                                    0.0   \n",
       "1                                    0.0   \n",
       "2                                    0.0   \n",
       "3                                    0.0   \n",
       "4                                    0.0   \n",
       "\n",
       "   Life.Style                                                                                \\\n",
       "0                                                0.0                                          \n",
       "1                                                0.0                                          \n",
       "2                                                1.0                                          \n",
       "3                                                1.0                                          \n",
       "4                                                1.0                                          \n",
       "\n",
       "   Sleep  Category  Depression  Hyperlipi  ...   oldpeak  slope        ca  \\\n",
       "0    0.0       0.0         1.0        1.0  ...  0.483871    0.5  0.000000   \n",
       "1    0.0       0.0         1.0        1.0  ...  0.193548    0.5  0.000000   \n",
       "2    1.0       0.0         1.0        1.0  ...  0.548387    0.5  0.000000   \n",
       "3    1.0       0.0         1.0        1.0  ...  0.322581    0.5  0.333333   \n",
       "4    0.0       0.0         1.0        1.0  ...  0.645161    1.0  0.666667   \n",
       "\n",
       "   thal       num   SK  SK.React  Reaction  Mortality  Follow.Up  \n",
       "0   1.0  0.333333  1.0  0.666667       0.0          0   1.000000  \n",
       "1   1.0  0.333333  1.0  0.666667       0.0          0   0.237288  \n",
       "2   0.0  0.333333  1.0  0.666667       0.0          0   0.084746  \n",
       "3   1.0  0.666667  1.0  0.666667       0.0          0   0.864407  \n",
       "4   1.0  0.666667  1.0  0.666667       0.0          0   0.559322  \n",
       "\n",
       "[5 rows x 60 columns]"
      ]
     },
     "execution_count": 219,
     "metadata": {},
     "output_type": "execute_result"
    }
   ],
   "source": [
    "df.head()"
   ]
  },
  {
   "cell_type": "markdown",
   "id": "2fde1b2c",
   "metadata": {},
   "source": [
    "#### Separating input and output features"
   ]
  },
  {
   "cell_type": "code",
   "execution_count": 220,
   "id": "d3c2f7f7",
   "metadata": {},
   "outputs": [],
   "source": [
    "X = df.drop(columns=\"Mortality\", axis=1)"
   ]
  },
  {
   "cell_type": "code",
   "execution_count": 221,
   "id": "f363b774",
   "metadata": {},
   "outputs": [
    {
     "data": {
      "text/plain": [
       "(368, 59)"
      ]
     },
     "execution_count": 221,
     "metadata": {},
     "output_type": "execute_result"
    }
   ],
   "source": [
    "X.shape"
   ]
  },
  {
   "cell_type": "code",
   "execution_count": 222,
   "id": "63c166af",
   "metadata": {},
   "outputs": [],
   "source": [
    "y = df[\"Mortality\"]"
   ]
  },
  {
   "cell_type": "code",
   "execution_count": 223,
   "id": "2af626e0",
   "metadata": {},
   "outputs": [
    {
     "data": {
      "text/plain": [
       "(368,)"
      ]
     },
     "execution_count": 223,
     "metadata": {},
     "output_type": "execute_result"
    }
   ],
   "source": [
    "y.shape"
   ]
  },
  {
   "cell_type": "markdown",
   "id": "e28afce8",
   "metadata": {},
   "source": [
    "# Featuresalection\n"
   ]
  },
  {
   "cell_type": "code",
   "execution_count": 224,
   "id": "603b9be4",
   "metadata": {},
   "outputs": [],
   "source": [
    "from sklearn.feature_selection import SelectFromModel "
   ]
  },
  {
   "cell_type": "code",
   "execution_count": 225,
   "id": "599583d1",
   "metadata": {},
   "outputs": [],
   "source": [
    "from sklearn.ensemble import RandomForestClassifier"
   ]
  },
  {
   "cell_type": "code",
   "execution_count": 226,
   "id": "0b65aafb",
   "metadata": {},
   "outputs": [],
   "source": [
    "rf_imp = RandomForestClassifier(random_state=44)"
   ]
  },
  {
   "cell_type": "code",
   "execution_count": 227,
   "id": "dbc5361a",
   "metadata": {},
   "outputs": [],
   "source": [
    "imp_features = SelectFromModel(rf_imp,max_features=15)"
   ]
  },
  {
   "cell_type": "code",
   "execution_count": 228,
   "id": "c312893d",
   "metadata": {},
   "outputs": [
    {
     "data": {
      "text/plain": [
       "SelectFromModel(estimator=RandomForestClassifier(random_state=44),\n",
       "                max_features=15)"
      ]
     },
     "execution_count": 228,
     "metadata": {},
     "output_type": "execute_result"
    }
   ],
   "source": [
    "imp_features.fit(X,y)"
   ]
  },
  {
   "cell_type": "code",
   "execution_count": 229,
   "id": "a59cefc1",
   "metadata": {},
   "outputs": [
    {
     "data": {
      "text/plain": [
       "Index(['Age', 'Age.Group', 'Diabetes', 'P.C.V', 'M.C.V', 'CO', 'trestbps',\n",
       "       'chol', 'thalach', 'exang', 'oldpeak', 'ca', 'num', 'Reaction',\n",
       "       'Follow.Up'],\n",
       "      dtype='object')"
      ]
     },
     "execution_count": 229,
     "metadata": {},
     "output_type": "execute_result"
    }
   ],
   "source": [
    "X.columns[imp_features.get_support()]"
   ]
  },
  {
   "cell_type": "code",
   "execution_count": 230,
   "id": "054e6df8",
   "metadata": {},
   "outputs": [],
   "source": [
    "X_sel = imp_features.transform(X)"
   ]
  },
  {
   "cell_type": "code",
   "execution_count": 231,
   "id": "dacfd096",
   "metadata": {},
   "outputs": [
    {
     "data": {
      "text/plain": [
       "(368, 15)"
      ]
     },
     "execution_count": 231,
     "metadata": {},
     "output_type": "execute_result"
    }
   ],
   "source": [
    "X_sel.shape"
   ]
  },
  {
   "cell_type": "code",
   "execution_count": 232,
   "id": "06a1c231",
   "metadata": {},
   "outputs": [
    {
     "data": {
      "text/plain": [
       "(368,)"
      ]
     },
     "execution_count": 232,
     "metadata": {},
     "output_type": "execute_result"
    }
   ],
   "source": [
    "y.shape"
   ]
  },
  {
   "cell_type": "markdown",
   "id": "30689245",
   "metadata": {},
   "source": [
    "## Model Training"
   ]
  },
  {
   "cell_type": "code",
   "execution_count": 233,
   "id": "7fd464ea",
   "metadata": {},
   "outputs": [],
   "source": [
    "from sklearn.metrics import accuracy_score, precision_score, recall_score, f1_score, confusion_matrix"
   ]
  },
  {
   "cell_type": "code",
   "execution_count": 234,
   "id": "0a58a65f",
   "metadata": {},
   "outputs": [],
   "source": [
    "from sklearn.metrics import make_scorer"
   ]
  },
  {
   "cell_type": "code",
   "execution_count": 235,
   "id": "ac2727f2",
   "metadata": {},
   "outputs": [],
   "source": [
    "scoring = {\n",
    "    'accuracy' : make_scorer(accuracy_score),\n",
    "    'precision' : make_scorer(precision_score),\n",
    "    'recall' : make_scorer(recall_score),\n",
    "    'f1_score' : make_scorer(f1_score)\n",
    "}"
   ]
  },
  {
   "cell_type": "markdown",
   "id": "2969390b",
   "metadata": {},
   "source": [
    "## Logistic Regression"
   ]
  },
  {
   "cell_type": "code",
   "execution_count": 236,
   "id": "4cf6ea02",
   "metadata": {},
   "outputs": [],
   "source": [
    "from sklearn.model_selection import cross_validate"
   ]
  },
  {
   "cell_type": "code",
   "execution_count": 237,
   "id": "e9425689",
   "metadata": {},
   "outputs": [],
   "source": [
    "from sklearn.linear_model import LogisticRegression"
   ]
  },
  {
   "cell_type": "code",
   "execution_count": 238,
   "id": "0032da53",
   "metadata": {},
   "outputs": [],
   "source": [
    "lr_model = LogisticRegression(random_state=44,n_jobs=-1)"
   ]
  },
  {
   "cell_type": "code",
   "execution_count": 239,
   "id": "31fd463f",
   "metadata": {},
   "outputs": [],
   "source": [
    "lr_cv = cross_validate(lr_model,X_sel,y,cv=10,scoring=scoring,n_jobs=-1)"
   ]
  },
  {
   "cell_type": "code",
   "execution_count": 240,
   "id": "9e6e75d4",
   "metadata": {},
   "outputs": [],
   "source": [
    "lr_accuracy = lr_cv.get(\"test_accuracy\")\n",
    "lr_precision = lr_cv.get(\"test_precision\")\n",
    "lr_recall = lr_cv.get(\"test_recall\")\n",
    "lr_f1_score = lr_cv.get(\"test_f1_score\")"
   ]
  },
  {
   "cell_type": "code",
   "execution_count": 241,
   "id": "3ccd05d1",
   "metadata": {},
   "outputs": [
    {
     "name": "stdout",
     "output_type": "stream",
     "text": [
      "0.8314564564564565\n"
     ]
    }
   ],
   "source": [
    "print(np.mean(lr_accuracy))"
   ]
  },
  {
   "cell_type": "code",
   "execution_count": 242,
   "id": "b9ba14af",
   "metadata": {},
   "outputs": [],
   "source": [
    "lr_cv_all = cross_validate(lr_model,X,y,cv=10,scoring=scoring,n_jobs=-1)"
   ]
  },
  {
   "cell_type": "code",
   "execution_count": 243,
   "id": "9fea9979",
   "metadata": {},
   "outputs": [],
   "source": [
    "lr_accuracy_all = lr_cv_all.get(\"test_accuracy\")"
   ]
  },
  {
   "cell_type": "code",
   "execution_count": 244,
   "id": "2b970fc2",
   "metadata": {},
   "outputs": [
    {
     "name": "stdout",
     "output_type": "stream",
     "text": [
      "0.8614864864864865\n"
     ]
    }
   ],
   "source": [
    "print(np.mean(lr_accuracy_all))"
   ]
  },
  {
   "cell_type": "markdown",
   "id": "dfdd5839",
   "metadata": {},
   "source": [
    "# SVM"
   ]
  },
  {
   "cell_type": "code",
   "execution_count": 245,
   "id": "1467376c",
   "metadata": {},
   "outputs": [],
   "source": [
    "from sklearn.svm import SVC"
   ]
  },
  {
   "cell_type": "code",
   "execution_count": 246,
   "id": "5aea8422",
   "metadata": {},
   "outputs": [],
   "source": [
    "svc_model = SVC(random_state=44)"
   ]
  },
  {
   "cell_type": "code",
   "execution_count": 247,
   "id": "cb5ea6a6",
   "metadata": {},
   "outputs": [],
   "source": [
    "svc_cv = cross_validate(svc_model,X_sel,y,cv=10,scoring=scoring,n_jobs=-1)"
   ]
  },
  {
   "cell_type": "code",
   "execution_count": 248,
   "id": "85089d71",
   "metadata": {},
   "outputs": [],
   "source": [
    "svc_accuracy = svc_cv.get(\"test_accuracy\")\n",
    "svc_precision = svc_cv.get(\"test_precision\")\n",
    "svc_recall = svc_cv.get(\"test_recall\")\n",
    "svc_f1_score = svc_cv.get(\"test_f1_score\")"
   ]
  },
  {
   "cell_type": "code",
   "execution_count": 249,
   "id": "a2d71b1a",
   "metadata": {},
   "outputs": [
    {
     "name": "stdout",
     "output_type": "stream",
     "text": [
      "0.9403153153153152\n"
     ]
    }
   ],
   "source": [
    "print(np.mean(svc_accuracy))"
   ]
  },
  {
   "cell_type": "code",
   "execution_count": 250,
   "id": "f4d97059",
   "metadata": {},
   "outputs": [],
   "source": [
    "svc_cv_all = cross_validate(svc_model,X,y,cv=10,scoring=scoring,n_jobs=-1)"
   ]
  },
  {
   "cell_type": "code",
   "execution_count": 251,
   "id": "3ede9ede",
   "metadata": {},
   "outputs": [],
   "source": [
    "svc_accuracy_all = svc_cv_all.get(\"test_accuracy\")"
   ]
  },
  {
   "cell_type": "code",
   "execution_count": 252,
   "id": "9c74ec83",
   "metadata": {},
   "outputs": [
    {
     "name": "stdout",
     "output_type": "stream",
     "text": [
      "0.9159159159159159\n"
     ]
    }
   ],
   "source": [
    "print(np.mean(svc_accuracy_all))"
   ]
  },
  {
   "cell_type": "markdown",
   "id": "e6b02305",
   "metadata": {},
   "source": [
    "#### Decision Tree"
   ]
  },
  {
   "cell_type": "code",
   "execution_count": 253,
   "id": "c5bda987",
   "metadata": {},
   "outputs": [],
   "source": [
    "from sklearn.tree import DecisionTreeClassifier"
   ]
  },
  {
   "cell_type": "code",
   "execution_count": 254,
   "id": "1c9ff0c0",
   "metadata": {},
   "outputs": [],
   "source": [
    "dt_model = DecisionTreeClassifier(random_state=44)"
   ]
  },
  {
   "cell_type": "code",
   "execution_count": 255,
   "id": "e78f8036",
   "metadata": {},
   "outputs": [],
   "source": [
    "dt_cv = cross_validate(dt_model,X_sel,y,cv=10,scoring=scoring,n_jobs=-1)"
   ]
  },
  {
   "cell_type": "code",
   "execution_count": 256,
   "id": "97625548",
   "metadata": {},
   "outputs": [],
   "source": [
    "dt_accuracy = dt_cv.get(\"test_accuracy\")"
   ]
  },
  {
   "cell_type": "code",
   "execution_count": 257,
   "id": "d2b37a86",
   "metadata": {},
   "outputs": [
    {
     "name": "stdout",
     "output_type": "stream",
     "text": [
      "0.9459459459459459\n"
     ]
    }
   ],
   "source": [
    "print(np.mean(dt_accuracy))"
   ]
  },
  {
   "cell_type": "code",
   "execution_count": 258,
   "id": "83739020",
   "metadata": {},
   "outputs": [],
   "source": [
    "dt_cv_all = cross_validate(dt_model,X,y,cv=10,scoring=scoring,n_jobs=-1)"
   ]
  },
  {
   "cell_type": "code",
   "execution_count": 259,
   "id": "2f0e50c1",
   "metadata": {},
   "outputs": [],
   "source": [
    "dt_accuracy_all = dt_cv_all.get(\"test_accuracy\")"
   ]
  },
  {
   "cell_type": "code",
   "execution_count": 260,
   "id": "dd7141ff",
   "metadata": {},
   "outputs": [
    {
     "name": "stdout",
     "output_type": "stream",
     "text": [
      "0.9351351351351351\n"
     ]
    }
   ],
   "source": [
    "print(np.mean(dt_accuracy_all))"
   ]
  },
  {
   "cell_type": "markdown",
   "id": "65d1179e",
   "metadata": {},
   "source": [
    "#### Random Forest "
   ]
  },
  {
   "cell_type": "code",
   "execution_count": 261,
   "id": "f68ff73f",
   "metadata": {},
   "outputs": [],
   "source": [
    "from sklearn.ensemble import RandomForestClassifier"
   ]
  },
  {
   "cell_type": "code",
   "execution_count": 262,
   "id": "b9643928",
   "metadata": {},
   "outputs": [],
   "source": [
    "rf_model = RandomForestClassifier(random_state=44,n_jobs=-1)"
   ]
  },
  {
   "cell_type": "code",
   "execution_count": 263,
   "id": "4bcf4f8e",
   "metadata": {},
   "outputs": [],
   "source": [
    "rf_cv = cross_validate(rf_model,X_sel,y,cv=10,scoring=scoring,n_jobs=-1)"
   ]
  },
  {
   "cell_type": "code",
   "execution_count": 264,
   "id": "a0e76473",
   "metadata": {},
   "outputs": [],
   "source": [
    "rf_accuracy = rf_cv.get(\"test_accuracy\")\n",
    "rf_precision = rf_cv.get(\"test_precision\")\n",
    "rf_recall = rf_cv.get(\"test_recall\")\n",
    "rf_f1_score = rf_cv.get(\"test_f1_score\")"
   ]
  },
  {
   "cell_type": "code",
   "execution_count": 265,
   "id": "e122d59d",
   "metadata": {},
   "outputs": [
    {
     "name": "stdout",
     "output_type": "stream",
     "text": [
      "0.9702702702702704\n",
      "0.9633333333333333\n",
      "0.9\n",
      "0.9229548229548229\n"
     ]
    }
   ],
   "source": [
    "print(np.mean(rf_accuracy))\n",
    "print(np.mean(rf_precision))\n",
    "print(np.mean(rf_recall))\n",
    "print(np.mean(rf_f1_score))"
   ]
  },
  {
   "cell_type": "code",
   "execution_count": 266,
   "id": "a0f2413d",
   "metadata": {},
   "outputs": [],
   "source": [
    "rf_cv_all = cross_validate(rf_model,X,y,cv=10,scoring=scoring,n_jobs=-1)"
   ]
  },
  {
   "cell_type": "code",
   "execution_count": 267,
   "id": "013ebaf4",
   "metadata": {},
   "outputs": [],
   "source": [
    "rf_accuracy_all = rf_cv_all.get(\"test_accuracy\")"
   ]
  },
  {
   "cell_type": "code",
   "execution_count": 268,
   "id": "e467fbca",
   "metadata": {},
   "outputs": [
    {
     "name": "stdout",
     "output_type": "stream",
     "text": [
      "0.9675675675675676\n"
     ]
    }
   ],
   "source": [
    "print(np.mean(rf_accuracy_all))"
   ]
  },
  {
   "cell_type": "code",
   "execution_count": null,
   "id": "85156bf4",
   "metadata": {},
   "outputs": [],
   "source": []
  },
  {
   "cell_type": "code",
   "execution_count": null,
   "id": "ff780bac",
   "metadata": {},
   "outputs": [],
   "source": []
  }
 ],
 "metadata": {
  "kernelspec": {
   "display_name": "Python 3 (ipykernel)",
   "language": "python",
   "name": "python3"
  },
  "language_info": {
   "codemirror_mode": {
    "name": "ipython",
    "version": 3
   },
   "file_extension": ".py",
   "mimetype": "text/x-python",
   "name": "python",
   "nbconvert_exporter": "python",
   "pygments_lexer": "ipython3",
   "version": "3.9.12"
  }
 },
 "nbformat": 4,
 "nbformat_minor": 5
}
